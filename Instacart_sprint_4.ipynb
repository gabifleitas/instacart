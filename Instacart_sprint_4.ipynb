{
 "cells": [
  {
   "cell_type": "markdown",
   "id": "3Xg_RQfnafXz",
   "metadata": {
    "id": "3Xg_RQfnafXz"
   },
   "source": [
    "# ¡Llena ese carrito!"
   ]
  },
  {
   "cell_type": "markdown",
   "id": "mhIvmmkW414q",
   "metadata": {
    "id": "mhIvmmkW414q"
   },
   "source": [
    "# Introducción\n",
    "\n",
    "Instacart es una plataforma de entregas de comestibles donde la clientela puede registrar un pedido y hacer que se lo entreguen, similar a Uber Eats y Door Dash.\n",
    "El conjunto de datos que te hemos proporcionado tiene modificaciones del original. Redujimos el tamaño del conjunto para que tus cálculos se hicieran más rápido e introdujimos valores ausentes y duplicados. Tuvimos cuidado de conservar las distribuciones de los datos originales cuando hicimos los cambios.\n",
    "\n",
    "Debes completar tres pasos. Para cada uno de ellos, escribe una breve introducción que refleje con claridad cómo pretendes resolver cada paso, y escribe párrafos explicatorios que justifiquen tus decisiones al tiempo que avanzas en tu solución.  También escribe una conclusión que resuma tus hallazgos y elecciones.\n"
   ]
  },
  {
   "cell_type": "markdown",
   "id": "3MbyzpOQZ5Or",
   "metadata": {
    "id": "3MbyzpOQZ5Or"
   },
   "source": [
    "## Diccionario de datos\n",
    "\n",
    "Hay cinco tablas en el conjunto de datos, y tendrás que usarlas todas para hacer el preprocesamiento de datos y el análisis exploratorio de datos. A continuación se muestra un diccionario de datos que enumera las columnas de cada tabla y describe los datos que contienen.\n",
    "\n",
    "- `instacart_orders.csv`: cada fila corresponde a un pedido en la aplicación Instacart.\n",
    "    - `'order_id'`: número de ID que identifica de manera única cada pedido.\n",
    "    - `'user_id'`: número de ID que identifica de manera única la cuenta de cada cliente.\n",
    "    - `'order_number'`: el número de veces que este cliente ha hecho un pedido.\n",
    "    - `'order_dow'`: día de la semana en que se hizo el pedido (0 si es domingo).\n",
    "    - `'order_hour_of_day'`: hora del día en que se hizo el pedido.\n",
    "    - `'days_since_prior_order'`: número de días transcurridos desde que este cliente hizo su pedido anterior.\n",
    "- `products.csv`: cada fila corresponde a un producto único que pueden comprar los clientes.\n",
    "    - `'product_id'`: número ID que identifica de manera única cada producto.\n",
    "    - `'product_name'`: nombre del producto.\n",
    "    - `'aisle_id'`: número ID que identifica de manera única cada categoría de pasillo de víveres.\n",
    "    - `'department_id'`: número ID que identifica de manera única cada departamento de víveres.\n",
    "- `order_products.csv`: cada fila corresponde a un artículo pedido en un pedido.\n",
    "    - `'order_id'`: número de ID que identifica de manera única cada pedido.\n",
    "    - `'product_id'`: número ID que identifica de manera única cada producto.\n",
    "    - `'add_to_cart_order'`: el orden secuencial en el que se añadió cada artículo en el carrito.\n",
    "    - `'reordered'`: 0 si el cliente nunca ha pedido este producto antes, 1 si lo ha pedido.\n",
    "- `aisles.csv`\n",
    "    - `'aisle_id'`: número ID que identifica de manera única cada categoría de pasillo de víveres.\n",
    "    - `'aisle'`: nombre del pasillo.\n",
    "- `departments.csv`\n",
    "    - `'department_id'`: número ID que identifica de manera única cada departamento de víveres.\n",
    "    - `'department'`: nombre del departamento."
   ]
  },
  {
   "cell_type": "markdown",
   "id": "n3Ha_cNSZ8lK",
   "metadata": {
    "id": "n3Ha_cNSZ8lK"
   },
   "source": [
    "# Paso 1. Descripción de los datos\n",
    "\n",
    "Lee los archivos de datos (`/datasets/instacart_orders.csv`, `/datasets/products.csv`, `/datasets/aisles.csv`, `/datasets/departments.csv` y `/datasets/order_products.csv`) con `pd.read_csv()` usando los parámetros adecuados para leer los datos correctamente. Verifica la información para cada DataFrame creado.\n"
   ]
  },
  {
   "cell_type": "markdown",
   "id": "OmlQPLlyaAfR",
   "metadata": {
    "id": "OmlQPLlyaAfR"
   },
   "source": [
    "## Plan de solución\n",
    "\n",
    "Escribe aquí tu plan de solución para el Paso 1. Descripción de los datos.\n",
    "\n",
    "Para poder hacer descripción de los datos, primeramente necesito ver cómo son. Por eso lo que voy a hacer es leerlos, y luego aplicar el método info() para tener una noción de cómo son \"por dentro\"."
   ]
  },
  {
   "cell_type": "code",
   "execution_count": 1,
   "id": "fbf1adab",
   "metadata": {
    "id": "fbf1adab",
    "trusted": false
   },
   "outputs": [],
   "source": [
    "# importar librerías\n",
    "import pandas as pd\n",
    "import matplotlib.pyplot as plt"
   ]
  },
  {
   "cell_type": "code",
   "execution_count": 2,
   "id": "ad36396d",
   "metadata": {
    "id": "ad36396d",
    "trusted": false
   },
   "outputs": [
    {
     "ename": "FileNotFoundError",
     "evalue": "[Errno 2] No such file or directory: '/datasets/instacart_orders.csv'",
     "output_type": "error",
     "traceback": [
      "\u001b[31m---------------------------------------------------------------------------\u001b[39m",
      "\u001b[31mFileNotFoundError\u001b[39m                         Traceback (most recent call last)",
      "\u001b[36mCell\u001b[39m\u001b[36m \u001b[39m\u001b[32mIn[2]\u001b[39m\u001b[32m, line 2\u001b[39m\n\u001b[32m      1\u001b[39m \u001b[38;5;66;03m# leer conjuntos de datos en los DataFrames\u001b[39;00m\n\u001b[32m----> \u001b[39m\u001b[32m2\u001b[39m insta_orders=\u001b[43mpd\u001b[49m\u001b[43m.\u001b[49m\u001b[43mread_csv\u001b[49m\u001b[43m(\u001b[49m\u001b[33;43m'\u001b[39;49m\u001b[33;43m/datasets/instacart_orders.csv\u001b[39;49m\u001b[33;43m'\u001b[39;49m\u001b[43m,\u001b[49m\u001b[43msep\u001b[49m\u001b[43m=\u001b[49m\u001b[33;43m'\u001b[39;49m\u001b[33;43m;\u001b[39;49m\u001b[33;43m'\u001b[39;49m\u001b[43m)\u001b[49m\n\u001b[32m      3\u001b[39m products=pd.read_csv(\u001b[33m'\u001b[39m\u001b[33m/datasets/products.csv\u001b[39m\u001b[33m'\u001b[39m,sep=\u001b[33m'\u001b[39m\u001b[33m;\u001b[39m\u001b[33m'\u001b[39m)\n\u001b[32m      4\u001b[39m aisles=pd.read_csv(\u001b[33m'\u001b[39m\u001b[33m/datasets/aisles.csv\u001b[39m\u001b[33m'\u001b[39m,sep=\u001b[33m'\u001b[39m\u001b[33m;\u001b[39m\u001b[33m'\u001b[39m)\n",
      "\u001b[36mFile \u001b[39m\u001b[32mc:\\Users\\Acer\\AppData\\Local\\Programs\\Python\\Python312\\Lib\\site-packages\\pandas\\io\\parsers\\readers.py:1026\u001b[39m, in \u001b[36mread_csv\u001b[39m\u001b[34m(filepath_or_buffer, sep, delimiter, header, names, index_col, usecols, dtype, engine, converters, true_values, false_values, skipinitialspace, skiprows, skipfooter, nrows, na_values, keep_default_na, na_filter, verbose, skip_blank_lines, parse_dates, infer_datetime_format, keep_date_col, date_parser, date_format, dayfirst, cache_dates, iterator, chunksize, compression, thousands, decimal, lineterminator, quotechar, quoting, doublequote, escapechar, comment, encoding, encoding_errors, dialect, on_bad_lines, delim_whitespace, low_memory, memory_map, float_precision, storage_options, dtype_backend)\u001b[39m\n\u001b[32m   1013\u001b[39m kwds_defaults = _refine_defaults_read(\n\u001b[32m   1014\u001b[39m     dialect,\n\u001b[32m   1015\u001b[39m     delimiter,\n\u001b[32m   (...)\u001b[39m\u001b[32m   1022\u001b[39m     dtype_backend=dtype_backend,\n\u001b[32m   1023\u001b[39m )\n\u001b[32m   1024\u001b[39m kwds.update(kwds_defaults)\n\u001b[32m-> \u001b[39m\u001b[32m1026\u001b[39m \u001b[38;5;28;01mreturn\u001b[39;00m \u001b[43m_read\u001b[49m\u001b[43m(\u001b[49m\u001b[43mfilepath_or_buffer\u001b[49m\u001b[43m,\u001b[49m\u001b[43m \u001b[49m\u001b[43mkwds\u001b[49m\u001b[43m)\u001b[49m\n",
      "\u001b[36mFile \u001b[39m\u001b[32mc:\\Users\\Acer\\AppData\\Local\\Programs\\Python\\Python312\\Lib\\site-packages\\pandas\\io\\parsers\\readers.py:620\u001b[39m, in \u001b[36m_read\u001b[39m\u001b[34m(filepath_or_buffer, kwds)\u001b[39m\n\u001b[32m    617\u001b[39m _validate_names(kwds.get(\u001b[33m\"\u001b[39m\u001b[33mnames\u001b[39m\u001b[33m\"\u001b[39m, \u001b[38;5;28;01mNone\u001b[39;00m))\n\u001b[32m    619\u001b[39m \u001b[38;5;66;03m# Create the parser.\u001b[39;00m\n\u001b[32m--> \u001b[39m\u001b[32m620\u001b[39m parser = \u001b[43mTextFileReader\u001b[49m\u001b[43m(\u001b[49m\u001b[43mfilepath_or_buffer\u001b[49m\u001b[43m,\u001b[49m\u001b[43m \u001b[49m\u001b[43m*\u001b[49m\u001b[43m*\u001b[49m\u001b[43mkwds\u001b[49m\u001b[43m)\u001b[49m\n\u001b[32m    622\u001b[39m \u001b[38;5;28;01mif\u001b[39;00m chunksize \u001b[38;5;129;01mor\u001b[39;00m iterator:\n\u001b[32m    623\u001b[39m     \u001b[38;5;28;01mreturn\u001b[39;00m parser\n",
      "\u001b[36mFile \u001b[39m\u001b[32mc:\\Users\\Acer\\AppData\\Local\\Programs\\Python\\Python312\\Lib\\site-packages\\pandas\\io\\parsers\\readers.py:1620\u001b[39m, in \u001b[36mTextFileReader.__init__\u001b[39m\u001b[34m(self, f, engine, **kwds)\u001b[39m\n\u001b[32m   1617\u001b[39m     \u001b[38;5;28mself\u001b[39m.options[\u001b[33m\"\u001b[39m\u001b[33mhas_index_names\u001b[39m\u001b[33m\"\u001b[39m] = kwds[\u001b[33m\"\u001b[39m\u001b[33mhas_index_names\u001b[39m\u001b[33m\"\u001b[39m]\n\u001b[32m   1619\u001b[39m \u001b[38;5;28mself\u001b[39m.handles: IOHandles | \u001b[38;5;28;01mNone\u001b[39;00m = \u001b[38;5;28;01mNone\u001b[39;00m\n\u001b[32m-> \u001b[39m\u001b[32m1620\u001b[39m \u001b[38;5;28mself\u001b[39m._engine = \u001b[38;5;28;43mself\u001b[39;49m\u001b[43m.\u001b[49m\u001b[43m_make_engine\u001b[49m\u001b[43m(\u001b[49m\u001b[43mf\u001b[49m\u001b[43m,\u001b[49m\u001b[43m \u001b[49m\u001b[38;5;28;43mself\u001b[39;49m\u001b[43m.\u001b[49m\u001b[43mengine\u001b[49m\u001b[43m)\u001b[49m\n",
      "\u001b[36mFile \u001b[39m\u001b[32mc:\\Users\\Acer\\AppData\\Local\\Programs\\Python\\Python312\\Lib\\site-packages\\pandas\\io\\parsers\\readers.py:1880\u001b[39m, in \u001b[36mTextFileReader._make_engine\u001b[39m\u001b[34m(self, f, engine)\u001b[39m\n\u001b[32m   1878\u001b[39m     \u001b[38;5;28;01mif\u001b[39;00m \u001b[33m\"\u001b[39m\u001b[33mb\u001b[39m\u001b[33m\"\u001b[39m \u001b[38;5;129;01mnot\u001b[39;00m \u001b[38;5;129;01min\u001b[39;00m mode:\n\u001b[32m   1879\u001b[39m         mode += \u001b[33m\"\u001b[39m\u001b[33mb\u001b[39m\u001b[33m\"\u001b[39m\n\u001b[32m-> \u001b[39m\u001b[32m1880\u001b[39m \u001b[38;5;28mself\u001b[39m.handles = \u001b[43mget_handle\u001b[49m\u001b[43m(\u001b[49m\n\u001b[32m   1881\u001b[39m \u001b[43m    \u001b[49m\u001b[43mf\u001b[49m\u001b[43m,\u001b[49m\n\u001b[32m   1882\u001b[39m \u001b[43m    \u001b[49m\u001b[43mmode\u001b[49m\u001b[43m,\u001b[49m\n\u001b[32m   1883\u001b[39m \u001b[43m    \u001b[49m\u001b[43mencoding\u001b[49m\u001b[43m=\u001b[49m\u001b[38;5;28;43mself\u001b[39;49m\u001b[43m.\u001b[49m\u001b[43moptions\u001b[49m\u001b[43m.\u001b[49m\u001b[43mget\u001b[49m\u001b[43m(\u001b[49m\u001b[33;43m\"\u001b[39;49m\u001b[33;43mencoding\u001b[39;49m\u001b[33;43m\"\u001b[39;49m\u001b[43m,\u001b[49m\u001b[43m \u001b[49m\u001b[38;5;28;43;01mNone\u001b[39;49;00m\u001b[43m)\u001b[49m\u001b[43m,\u001b[49m\n\u001b[32m   1884\u001b[39m \u001b[43m    \u001b[49m\u001b[43mcompression\u001b[49m\u001b[43m=\u001b[49m\u001b[38;5;28;43mself\u001b[39;49m\u001b[43m.\u001b[49m\u001b[43moptions\u001b[49m\u001b[43m.\u001b[49m\u001b[43mget\u001b[49m\u001b[43m(\u001b[49m\u001b[33;43m\"\u001b[39;49m\u001b[33;43mcompression\u001b[39;49m\u001b[33;43m\"\u001b[39;49m\u001b[43m,\u001b[49m\u001b[43m \u001b[49m\u001b[38;5;28;43;01mNone\u001b[39;49;00m\u001b[43m)\u001b[49m\u001b[43m,\u001b[49m\n\u001b[32m   1885\u001b[39m \u001b[43m    \u001b[49m\u001b[43mmemory_map\u001b[49m\u001b[43m=\u001b[49m\u001b[38;5;28;43mself\u001b[39;49m\u001b[43m.\u001b[49m\u001b[43moptions\u001b[49m\u001b[43m.\u001b[49m\u001b[43mget\u001b[49m\u001b[43m(\u001b[49m\u001b[33;43m\"\u001b[39;49m\u001b[33;43mmemory_map\u001b[39;49m\u001b[33;43m\"\u001b[39;49m\u001b[43m,\u001b[49m\u001b[43m \u001b[49m\u001b[38;5;28;43;01mFalse\u001b[39;49;00m\u001b[43m)\u001b[49m\u001b[43m,\u001b[49m\n\u001b[32m   1886\u001b[39m \u001b[43m    \u001b[49m\u001b[43mis_text\u001b[49m\u001b[43m=\u001b[49m\u001b[43mis_text\u001b[49m\u001b[43m,\u001b[49m\n\u001b[32m   1887\u001b[39m \u001b[43m    \u001b[49m\u001b[43merrors\u001b[49m\u001b[43m=\u001b[49m\u001b[38;5;28;43mself\u001b[39;49m\u001b[43m.\u001b[49m\u001b[43moptions\u001b[49m\u001b[43m.\u001b[49m\u001b[43mget\u001b[49m\u001b[43m(\u001b[49m\u001b[33;43m\"\u001b[39;49m\u001b[33;43mencoding_errors\u001b[39;49m\u001b[33;43m\"\u001b[39;49m\u001b[43m,\u001b[49m\u001b[43m \u001b[49m\u001b[33;43m\"\u001b[39;49m\u001b[33;43mstrict\u001b[39;49m\u001b[33;43m\"\u001b[39;49m\u001b[43m)\u001b[49m\u001b[43m,\u001b[49m\n\u001b[32m   1888\u001b[39m \u001b[43m    \u001b[49m\u001b[43mstorage_options\u001b[49m\u001b[43m=\u001b[49m\u001b[38;5;28;43mself\u001b[39;49m\u001b[43m.\u001b[49m\u001b[43moptions\u001b[49m\u001b[43m.\u001b[49m\u001b[43mget\u001b[49m\u001b[43m(\u001b[49m\u001b[33;43m\"\u001b[39;49m\u001b[33;43mstorage_options\u001b[39;49m\u001b[33;43m\"\u001b[39;49m\u001b[43m,\u001b[49m\u001b[43m \u001b[49m\u001b[38;5;28;43;01mNone\u001b[39;49;00m\u001b[43m)\u001b[49m\u001b[43m,\u001b[49m\n\u001b[32m   1889\u001b[39m \u001b[43m\u001b[49m\u001b[43m)\u001b[49m\n\u001b[32m   1890\u001b[39m \u001b[38;5;28;01massert\u001b[39;00m \u001b[38;5;28mself\u001b[39m.handles \u001b[38;5;129;01mis\u001b[39;00m \u001b[38;5;129;01mnot\u001b[39;00m \u001b[38;5;28;01mNone\u001b[39;00m\n\u001b[32m   1891\u001b[39m f = \u001b[38;5;28mself\u001b[39m.handles.handle\n",
      "\u001b[36mFile \u001b[39m\u001b[32mc:\\Users\\Acer\\AppData\\Local\\Programs\\Python\\Python312\\Lib\\site-packages\\pandas\\io\\common.py:873\u001b[39m, in \u001b[36mget_handle\u001b[39m\u001b[34m(path_or_buf, mode, encoding, compression, memory_map, is_text, errors, storage_options)\u001b[39m\n\u001b[32m    868\u001b[39m \u001b[38;5;28;01melif\u001b[39;00m \u001b[38;5;28misinstance\u001b[39m(handle, \u001b[38;5;28mstr\u001b[39m):\n\u001b[32m    869\u001b[39m     \u001b[38;5;66;03m# Check whether the filename is to be opened in binary mode.\u001b[39;00m\n\u001b[32m    870\u001b[39m     \u001b[38;5;66;03m# Binary mode does not support 'encoding' and 'newline'.\u001b[39;00m\n\u001b[32m    871\u001b[39m     \u001b[38;5;28;01mif\u001b[39;00m ioargs.encoding \u001b[38;5;129;01mand\u001b[39;00m \u001b[33m\"\u001b[39m\u001b[33mb\u001b[39m\u001b[33m\"\u001b[39m \u001b[38;5;129;01mnot\u001b[39;00m \u001b[38;5;129;01min\u001b[39;00m ioargs.mode:\n\u001b[32m    872\u001b[39m         \u001b[38;5;66;03m# Encoding\u001b[39;00m\n\u001b[32m--> \u001b[39m\u001b[32m873\u001b[39m         handle = \u001b[38;5;28;43mopen\u001b[39;49m\u001b[43m(\u001b[49m\n\u001b[32m    874\u001b[39m \u001b[43m            \u001b[49m\u001b[43mhandle\u001b[49m\u001b[43m,\u001b[49m\n\u001b[32m    875\u001b[39m \u001b[43m            \u001b[49m\u001b[43mioargs\u001b[49m\u001b[43m.\u001b[49m\u001b[43mmode\u001b[49m\u001b[43m,\u001b[49m\n\u001b[32m    876\u001b[39m \u001b[43m            \u001b[49m\u001b[43mencoding\u001b[49m\u001b[43m=\u001b[49m\u001b[43mioargs\u001b[49m\u001b[43m.\u001b[49m\u001b[43mencoding\u001b[49m\u001b[43m,\u001b[49m\n\u001b[32m    877\u001b[39m \u001b[43m            \u001b[49m\u001b[43merrors\u001b[49m\u001b[43m=\u001b[49m\u001b[43merrors\u001b[49m\u001b[43m,\u001b[49m\n\u001b[32m    878\u001b[39m \u001b[43m            \u001b[49m\u001b[43mnewline\u001b[49m\u001b[43m=\u001b[49m\u001b[33;43m\"\u001b[39;49m\u001b[33;43m\"\u001b[39;49m\u001b[43m,\u001b[49m\n\u001b[32m    879\u001b[39m \u001b[43m        \u001b[49m\u001b[43m)\u001b[49m\n\u001b[32m    880\u001b[39m     \u001b[38;5;28;01melse\u001b[39;00m:\n\u001b[32m    881\u001b[39m         \u001b[38;5;66;03m# Binary mode\u001b[39;00m\n\u001b[32m    882\u001b[39m         handle = \u001b[38;5;28mopen\u001b[39m(handle, ioargs.mode)\n",
      "\u001b[31mFileNotFoundError\u001b[39m: [Errno 2] No such file or directory: '/datasets/instacart_orders.csv'"
     ]
    }
   ],
   "source": [
    "# leer conjuntos de datos en los DataFrames\n",
    "insta_orders=pd.read_csv('/datasets/instacart_orders.csv',sep=';')\n",
    "products=pd.read_csv('/datasets/products.csv',sep=';')\n",
    "aisles=pd.read_csv('/datasets/aisles.csv',sep=';')\n",
    "departments=pd.read_csv('/datasets/departments.csv',sep=';')\n",
    "order_product=pd.read_csv('/datasets/order_products.csv',sep=';')"
   ]
  },
  {
   "cell_type": "code",
   "execution_count": null,
   "id": "ad6a1efa",
   "metadata": {
    "id": "ad6a1efa",
    "trusted": false
   },
   "outputs": [
    {
     "name": "stdout",
     "output_type": "stream",
     "text": [
      "<class 'pandas.core.frame.DataFrame'>\n",
      "RangeIndex: 478967 entries, 0 to 478966\n",
      "Data columns (total 6 columns):\n",
      " #   Column                  Non-Null Count   Dtype  \n",
      "---  ------                  --------------   -----  \n",
      " 0   order_id                478967 non-null  int64  \n",
      " 1   user_id                 478967 non-null  int64  \n",
      " 2   order_number            478967 non-null  int64  \n",
      " 3   order_dow               478967 non-null  int64  \n",
      " 4   order_hour_of_day       478967 non-null  int64  \n",
      " 5   days_since_prior_order  450148 non-null  float64\n",
      "dtypes: float64(1), int64(5)\n",
      "memory usage: 21.9 MB\n"
     ]
    }
   ],
   "source": [
    "# mostrar información del DataFrame\n",
    "insta_orders.info()"
   ]
  },
  {
   "cell_type": "code",
   "execution_count": null,
   "id": "5130e05e",
   "metadata": {
    "id": "5130e05e",
    "trusted": false
   },
   "outputs": [
    {
     "name": "stdout",
     "output_type": "stream",
     "text": [
      "<class 'pandas.core.frame.DataFrame'>\n",
      "RangeIndex: 49694 entries, 0 to 49693\n",
      "Data columns (total 4 columns):\n",
      " #   Column         Non-Null Count  Dtype \n",
      "---  ------         --------------  ----- \n",
      " 0   product_id     49694 non-null  int64 \n",
      " 1   product_name   48436 non-null  object\n",
      " 2   aisle_id       49694 non-null  int64 \n",
      " 3   department_id  49694 non-null  int64 \n",
      "dtypes: int64(3), object(1)\n",
      "memory usage: 1.5+ MB\n"
     ]
    }
   ],
   "source": [
    "# mostrar información del DataFrame\n",
    "products.info()"
   ]
  },
  {
   "cell_type": "code",
   "execution_count": null,
   "id": "d8370c05",
   "metadata": {
    "id": "d8370c05",
    "trusted": false
   },
   "outputs": [
    {
     "name": "stdout",
     "output_type": "stream",
     "text": [
      "<class 'pandas.core.frame.DataFrame'>\n",
      "RangeIndex: 134 entries, 0 to 133\n",
      "Data columns (total 2 columns):\n",
      " #   Column    Non-Null Count  Dtype \n",
      "---  ------    --------------  ----- \n",
      " 0   aisle_id  134 non-null    int64 \n",
      " 1   aisle     134 non-null    object\n",
      "dtypes: int64(1), object(1)\n",
      "memory usage: 2.2+ KB\n"
     ]
    }
   ],
   "source": [
    "# mostrar información del DataFrame\n",
    "aisles.info()"
   ]
  },
  {
   "cell_type": "code",
   "execution_count": null,
   "id": "59e2090f",
   "metadata": {
    "id": "59e2090f",
    "trusted": false
   },
   "outputs": [
    {
     "name": "stdout",
     "output_type": "stream",
     "text": [
      "<class 'pandas.core.frame.DataFrame'>\n",
      "RangeIndex: 21 entries, 0 to 20\n",
      "Data columns (total 2 columns):\n",
      " #   Column         Non-Null Count  Dtype \n",
      "---  ------         --------------  ----- \n",
      " 0   department_id  21 non-null     int64 \n",
      " 1   department     21 non-null     object\n",
      "dtypes: int64(1), object(1)\n",
      "memory usage: 464.0+ bytes\n"
     ]
    }
   ],
   "source": [
    "# mostrar información del DataFrame\n",
    "departments.info()"
   ]
  },
  {
   "cell_type": "code",
   "execution_count": null,
   "id": "6fc81694",
   "metadata": {
    "id": "6fc81694",
    "trusted": false
   },
   "outputs": [
    {
     "name": "stdout",
     "output_type": "stream",
     "text": [
      "<class 'pandas.core.frame.DataFrame'>\n",
      "RangeIndex: 4545007 entries, 0 to 4545006\n",
      "Data columns (total 4 columns):\n",
      " #   Column             Non-Null Count    Dtype  \n",
      "---  ------             --------------    -----  \n",
      " 0   order_id           4545007 non-null  int64  \n",
      " 1   product_id         4545007 non-null  int64  \n",
      " 2   add_to_cart_order  4544171 non-null  float64\n",
      " 3   reordered          4545007 non-null  int64  \n",
      "dtypes: float64(1), int64(3)\n",
      "memory usage: 138.7 MB\n"
     ]
    }
   ],
   "source": [
    "# mostrar información del DataFrame\n",
    "order_product.info(show_counts = True)"
   ]
  },
  {
   "cell_type": "markdown",
   "id": "t75BD19oaR5f",
   "metadata": {
    "id": "t75BD19oaR5f"
   },
   "source": [
    "## Conclusiones\n",
    "\n",
    "Escribe aquí tus conclusiones intermedias sobre el Paso 1. Descripción de los datos.\n",
    "\n",
    "Los archivos, a pesar de ser csv, tienen un formato diferente. En la primera lectura que hice, solo se muestró como una columna a pesar de que hay varias. Por lo que utilicé sep para separarlas.\n",
    "\n",
    "\n",
    "Y lo último que pude notar es que por ejemplo, en el último DataFrame no se muestran los valores nulos, solo están el índice, columna, y el tipo de dato.\n",
    "\n"
   ]
  },
  {
   "cell_type": "markdown",
   "id": "8RJHqxVmaVsF",
   "metadata": {
    "id": "8RJHqxVmaVsF"
   },
   "source": [
    "# Paso 2. Preprocesamiento de los datos\n",
    "\n",
    "Preprocesa los datos de la siguiente manera:\n",
    "\n",
    "- Verifica y corrige los tipos de datos (por ejemplo, asegúrate de que las columnas de ID sean números enteros).\n",
    "- Identifica y completa los valores ausentes.\n",
    "- Identifica y elimina los valores duplicados.\n",
    "\n",
    "Asegúrate de explicar qué tipos de valores ausentes y duplicados encontraste, cómo los completaste o eliminaste y por qué usaste esos métodos. ¿Por qué crees que estos valores ausentes y duplicados pueden haber estado presentes en el conjunto de datos?"
   ]
  },
  {
   "cell_type": "markdown",
   "id": "p6poABZQaZYb",
   "metadata": {
    "id": "p6poABZQaZYb"
   },
   "source": [
    "## Plan de solución\n",
    "\n",
    "Escribe aquí tu plan para el Paso 2. Preprocesamiento de los datos.\n",
    "\n",
    "* Analizar si es seguro convertir datos\n",
    "* Utilizar métodos que me permitan verificar si hay valores duplicados (duplicated().sum(),drop_duplicates(), y luego reset_index ya que afecta a los indices)\n",
    "* Utilizar métodos que me permitan verificar si hay valores ausentes (isna(), y luego los rellenaré con la palabra \"unknown\") "
   ]
  },
  {
   "cell_type": "markdown",
   "id": "07357848-dc64-4156-9cc3-01ff4365226d",
   "metadata": {
    "id": "07357848-dc64-4156-9cc3-01ff4365226d"
   },
   "source": [
    "## Encuentra y elimina los valores duplicados (y describe cómo tomaste tus decisiones)."
   ]
  },
  {
   "cell_type": "markdown",
   "id": "f179f0a9",
   "metadata": {
    "id": "f179f0a9"
   },
   "source": [
    "### `orders` data frame"
   ]
  },
  {
   "cell_type": "code",
   "execution_count": null,
   "id": "b99297a5-405a-463d-8535-9adc3da4ad74",
   "metadata": {
    "id": "b99297a5-405a-463d-8535-9adc3da4ad74",
    "trusted": false
   },
   "outputs": [
    {
     "name": "stdout",
     "output_type": "stream",
     "text": [
      "15\n",
      "\n",
      "        order_id  user_id  order_number  order_dow  order_hour_of_day  \\\n",
      "145574    794638    50898            24          3                  2   \n",
      "223105   2160484   107525            16          3                  2   \n",
      "230807   1918001   188546            14          3                  2   \n",
      "266232   1782114   106752             1          3                  2   \n",
      "273805   1112182   202304            84          3                  2   \n",
      "284038   2845099    31189            11          3                  2   \n",
      "311713   1021560    53767             3          3                  2   \n",
      "321100    408114    68324             4          3                  2   \n",
      "323900   1919531   191501            32          3                  2   \n",
      "345917   2232988    82565             1          3                  2   \n",
      "371905    391768    57671            19          3                  2   \n",
      "394347    467134    63189            21          3                  2   \n",
      "411408   1286742   183220            48          3                  2   \n",
      "415163   2282673    86751            49          3                  2   \n",
      "441599   2125197    14050            48          3                  2   \n",
      "\n",
      "        days_since_prior_order  \n",
      "145574                     2.0  \n",
      "223105                    30.0  \n",
      "230807                    16.0  \n",
      "266232                     NaN  \n",
      "273805                     6.0  \n",
      "284038                     7.0  \n",
      "311713                     9.0  \n",
      "321100                    18.0  \n",
      "323900                     7.0  \n",
      "345917                     NaN  \n",
      "371905                    10.0  \n",
      "394347                     2.0  \n",
      "411408                     4.0  \n",
      "415163                     2.0  \n",
      "441599                     3.0  \n"
     ]
    }
   ],
   "source": [
    "# Revisa si hay pedidos duplicados\n",
    "orders=insta_orders.duplicated().sum()\n",
    "print(orders)\n",
    "print()\n",
    "print(insta_orders[insta_orders.duplicated()])\n"
   ]
  },
  {
   "cell_type": "markdown",
   "id": "PEkwUX_gvt5A",
   "metadata": {
    "id": "PEkwUX_gvt5A"
   },
   "source": [
    "¿Tienes líneas duplicadas? Si sí, ¿qué tienen en común?\n",
    "\n",
    "Si, hay 15 duplicados.\n",
    "Lo que tienen en comun son el dia de la semana en la que se hizo el pedido (3, que sería miércoles ya que la semana comienza en 0), y la hora (2)"
   ]
  },
  {
   "cell_type": "code",
   "execution_count": null,
   "id": "0d44de5d",
   "metadata": {
    "id": "0d44de5d",
    "trusted": false
   },
   "outputs": [
    {
     "name": "stdout",
     "output_type": "stream",
     "text": [
      "        order_id  user_id  order_number  order_dow  order_hour_of_day  \\\n",
      "4838     2766110   162084            41          3                  2   \n",
      "5156     2190225   138285            18          3                  2   \n",
      "15506     553049    58599            13          3                  2   \n",
      "18420     382357   120200            19          3                  2   \n",
      "24691     690242    77357             2          3                  2   \n",
      "...          ...      ...           ...        ...                ...   \n",
      "457013   3384021    14881             6          3                  2   \n",
      "458816    910166   164782            18          3                  2   \n",
      "459635   1680532   106435             6          3                  2   \n",
      "468324    222962    54979            59          3                  2   \n",
      "477526   2592344    46860            38          3                  2   \n",
      "\n",
      "        days_since_prior_order  \n",
      "4838                      16.0  \n",
      "5156                      11.0  \n",
      "15506                      7.0  \n",
      "18420                     11.0  \n",
      "24691                      9.0  \n",
      "...                        ...  \n",
      "457013                    30.0  \n",
      "458816                     4.0  \n",
      "459635                    21.0  \n",
      "468324                     3.0  \n",
      "477526                     3.0  \n",
      "\n",
      "[121 rows x 6 columns]\n"
     ]
    }
   ],
   "source": [
    "# Basándote en tus hallazgos,\n",
    "# Verifica todos los pedidos que se hicieron el miércoles a las 2:00 a.m.\n",
    "\n",
    "print(insta_orders.query(\"order_dow == 3 and order_hour_of_day == 2\"))"
   ]
  },
  {
   "cell_type": "markdown",
   "id": "vu2OWyoqwOx5",
   "metadata": {
    "id": "vu2OWyoqwOx5"
   },
   "source": [
    "¿Qué sugiere este resultado?\n",
    "Este resultado sugiere que si bien existen valores duplicados en los que fue el miércoles a las 2, al filtrar usando esas variables nos indica que hay 121 filas, osea, 121 pedidos fueron realizados en ese momento. \n",
    "Eso lleva a pensar que los valores duplicados se deben a otros motivos, no necesariamente por haberse realizado el miércoles a las 2."
   ]
  },
  {
   "cell_type": "code",
   "execution_count": null,
   "id": "480563c7",
   "metadata": {
    "id": "480563c7",
    "trusted": false
   },
   "outputs": [
    {
     "name": "stdout",
     "output_type": "stream",
     "text": [
      "0\n",
      "        order_id  user_id  order_number  order_dow  order_hour_of_day  \\\n",
      "0        1515936   183418            11          6                 13   \n",
      "1        1690866   163593             5          5                 12   \n",
      "2        1454967    39980             4          5                 19   \n",
      "3        1768857    82516            56          0                 20   \n",
      "4        3007858   196724             2          4                 12   \n",
      "...          ...      ...           ...        ...                ...   \n",
      "478962   3210681     5617             5          1                 14   \n",
      "478963   3270802   112087             2          3                 13   \n",
      "478964    885349    82944            16          2                 11   \n",
      "478965    216274     4391             3          3                  8   \n",
      "478966   2071924     1730            18          1                 14   \n",
      "\n",
      "        days_since_prior_order  \n",
      "0                         30.0  \n",
      "1                          9.0  \n",
      "2                          2.0  \n",
      "3                         10.0  \n",
      "4                         17.0  \n",
      "...                        ...  \n",
      "478962                     7.0  \n",
      "478963                     6.0  \n",
      "478964                     6.0  \n",
      "478965                     8.0  \n",
      "478966                    15.0  \n",
      "\n",
      "[478967 rows x 6 columns]\n"
     ]
    }
   ],
   "source": [
    "# Elimina los pedidos duplicados\n",
    "\n",
    "orders1 = insta_orders.drop_duplicates().reset_index(drop=True)\n",
    "\n",
    "\n",
    "print(orders1.duplicated().sum())\n",
    "\n",
    "print(insta_orders)"
   ]
  },
  {
   "cell_type": "code",
   "execution_count": null,
   "id": "0b2396a2",
   "metadata": {
    "id": "0b2396a2",
    "trusted": false
   },
   "outputs": [
    {
     "name": "stdout",
     "output_type": "stream",
     "text": [
      "0\n"
     ]
    }
   ],
   "source": [
    "# Vuelve a verificar si hay filas duplicadas\n",
    "print(orders1.duplicated().sum())"
   ]
  },
  {
   "cell_type": "code",
   "execution_count": null,
   "id": "f6113ef1",
   "metadata": {
    "id": "f6113ef1",
    "trusted": false
   },
   "outputs": [
    {
     "name": "stdout",
     "output_type": "stream",
     "text": [
      "15\n"
     ]
    }
   ],
   "source": [
    "# Vuelve a verificar únicamente si hay IDs duplicados de pedidos\n",
    "\n",
    "print(insta_orders.duplicated('order_id').sum())"
   ]
  },
  {
   "cell_type": "markdown",
   "id": "5e8905ae",
   "metadata": {
    "id": "5e8905ae"
   },
   "source": [
    "Describe brevemente tus hallazgos y lo que hiciste con ellos\n",
    "\n",
    "Al aplicar el método duplicated() en la fila de los IDs de pedidos si nos salen que hay duplicados, pero eso puede significar que probablemente el producto fue pedido más de 1 vez."
   ]
  },
  {
   "cell_type": "markdown",
   "id": "45e6bc46",
   "metadata": {
    "id": "45e6bc46"
   },
   "source": [
    "### `products` data frame"
   ]
  },
  {
   "cell_type": "code",
   "execution_count": null,
   "id": "5f526b5b-8175-46fa-a0fd-441767d50e64",
   "metadata": {
    "id": "5f526b5b-8175-46fa-a0fd-441767d50e64",
    "trusted": false
   },
   "outputs": [
    {
     "name": "stdout",
     "output_type": "stream",
     "text": [
      "0\n",
      "\n",
      "Empty DataFrame\n",
      "Columns: [product_id, product_name, aisle_id, department_id]\n",
      "Index: []\n"
     ]
    }
   ],
   "source": [
    "# Verifica si hay filas totalmente duplicadas\n",
    "print(products.duplicated().sum())\n",
    "print()\n",
    "print(products[products.duplicated()])\n"
   ]
  },
  {
   "cell_type": "code",
   "execution_count": null,
   "id": "88daa4f4",
   "metadata": {
    "id": "88daa4f4",
    "trusted": false
   },
   "outputs": [
    {
     "name": "stdout",
     "output_type": "stream",
     "text": [
      "0\n"
     ]
    }
   ],
   "source": [
    "# Revisa únicamente si hay ID de departamentos duplicados\n",
    "print(products.duplicated('product_id').sum())"
   ]
  },
  {
   "cell_type": "code",
   "execution_count": null,
   "id": "c773f0bf",
   "metadata": {
    "id": "c773f0bf",
    "trusted": false
   },
   "outputs": [
    {
     "name": "stdout",
     "output_type": "stream",
     "text": [
      "       product_id                                       product_name\n",
      "0               1                         CHOCOLATE SANDWICH COOKIES\n",
      "1               2                                   ALL-SEASONS SALT\n",
      "2               3               ROBUST GOLDEN UNSWEETENED OOLONG TEA\n",
      "3               4  SMART ONES CLASSIC FAVORITES MINI RIGATONI WIT...\n",
      "4               5                          GREEN CHILE ANYTIME SAUCE\n",
      "...           ...                                                ...\n",
      "49689       49690                      HIGH PERFORMANCE ENERGY DRINK\n",
      "49690       49691                      ORIGINAL PANCAKE & WAFFLE MIX\n",
      "49691       49692    ORGANIC INSTANT OATMEAL LIGHT MAPLE BROWN SUGAR\n",
      "49692       49693                             SPRING WATER BODY WASH\n",
      "49693       49694                            BURRITO- STEAK & CHEESE\n",
      "\n",
      "[49694 rows x 2 columns]\n",
      "\n",
      "1361\n"
     ]
    }
   ],
   "source": [
    "# Revisa únicamente si hay nombres duplicados de productos (convierte los nombres a letras mayúsculas para compararlos mejor)\n",
    "products['product_name']= products['product_name'].fillna('')\n",
    "\n",
    "col=products['product_name']\n",
    "new=[]\n",
    "for names in col:\n",
    "    new_name= names.upper()\n",
    "    new.append(new_name)\n",
    "products['product_name']=new\n",
    "\n",
    "col2=['product_id','product_name']\n",
    "\n",
    "print(products[col2])\n",
    "print()\n",
    "print(products.duplicated('product_name').sum())"
   ]
  },
  {
   "cell_type": "code",
   "execution_count": null,
   "id": "01efd02e",
   "metadata": {
    "id": "01efd02e",
    "trusted": false
   },
   "outputs": [
    {
     "name": "stdout",
     "output_type": "stream",
     "text": [
      "104\n"
     ]
    }
   ],
   "source": [
    "# Revisa si hay nombres duplicados de productos no faltantes\n",
    "non_empty=products[products['product_name']!= '']\n",
    "duplicate_count=non_empty['product_name'].duplicated().sum()\n",
    "print(duplicate_count)"
   ]
  },
  {
   "cell_type": "markdown",
   "id": "9da8d293",
   "metadata": {
    "id": "9da8d293"
   },
   "source": [
    "Describe brevemente tus hallazgos y lo que hiciste con ellos.\n",
    "\n",
    "\n",
    "Descubrí que en este DataFrame, no hay valores duplicados. Si bien si tuvimos valores duplicados en el nombre de los productos los IDs de cada uno son diferentes."
   ]
  },
  {
   "cell_type": "markdown",
   "id": "60f30db1",
   "metadata": {
    "id": "60f30db1"
   },
   "source": [
    "### `departments` data frame"
   ]
  },
  {
   "cell_type": "code",
   "execution_count": null,
   "id": "fb410ad4-0fbf-4b80-bb09-23fdea79afe3",
   "metadata": {
    "id": "fb410ad4-0fbf-4b80-bb09-23fdea79afe3",
    "trusted": false
   },
   "outputs": [
    {
     "name": "stdout",
     "output_type": "stream",
     "text": [
      "0\n"
     ]
    }
   ],
   "source": [
    "# Revisa si hay filas totalmente duplicadas\n",
    "print(departments.duplicated().sum())\n",
    "#print()\n",
    "#print(departments[products.duplicated()])\n"
   ]
  },
  {
   "cell_type": "code",
   "execution_count": null,
   "id": "332b12bb",
   "metadata": {
    "id": "332b12bb",
    "trusted": false
   },
   "outputs": [
    {
     "name": "stdout",
     "output_type": "stream",
     "text": [
      "0\n"
     ]
    }
   ],
   "source": [
    "# Revisa únicamente si hay IDs duplicadas de productos\n",
    "\n",
    "print(departments.duplicated('department_id').sum())"
   ]
  },
  {
   "cell_type": "markdown",
   "id": "bd30d78e",
   "metadata": {
    "id": "bd30d78e"
   },
   "source": [
    "Describe brevemente tus hallazgos y lo que hiciste con ellos.\n",
    "\n",
    "Utilizando los métodos de duplicados, se puede ver que en este DataFrame no hay duplicados. Puede deberse a que no es un DataFrame muy grande como los otros."
   ]
  },
  {
   "cell_type": "markdown",
   "id": "889349c1",
   "metadata": {
    "id": "889349c1"
   },
   "source": [
    "### `aisles` data frame"
   ]
  },
  {
   "cell_type": "code",
   "execution_count": null,
   "id": "9da89fb9-4679-40f5-ad0d-c34df753a3f8",
   "metadata": {
    "id": "9da89fb9-4679-40f5-ad0d-c34df753a3f8",
    "trusted": false
   },
   "outputs": [
    {
     "name": "stdout",
     "output_type": "stream",
     "text": [
      "0\n"
     ]
    }
   ],
   "source": [
    "# Revisa si hay filas totalmente duplicadas\n",
    "print(aisles.duplicated().sum())"
   ]
  },
  {
   "cell_type": "code",
   "execution_count": null,
   "id": "da7c2822",
   "metadata": {
    "id": "da7c2822",
    "trusted": false
   },
   "outputs": [
    {
     "name": "stdout",
     "output_type": "stream",
     "text": [
      "0\n"
     ]
    }
   ],
   "source": [
    "# Revisa únicamente si hay IDs duplicadas de pasillos\n",
    "print(aisles.duplicated('aisle_id').sum())"
   ]
  },
  {
   "cell_type": "markdown",
   "id": "ac63826f",
   "metadata": {
    "id": "ac63826f"
   },
   "source": [
    "Describe brevemente tus hallazgos y lo que hiciste con ellos.\n",
    "\n",
    "Utilizando los métodos de duplicados, se puede ver que en este DataFrame no hay duplicados. Puede deberse a que no es un DataFrame muy grande como los otros."
   ]
  },
  {
   "cell_type": "markdown",
   "id": "274cd06a",
   "metadata": {
    "id": "274cd06a"
   },
   "source": [
    "### `order_products` data frame"
   ]
  },
  {
   "cell_type": "code",
   "execution_count": null,
   "id": "52326689-84a8-4b8f-a881-7c68780f62c9",
   "metadata": {
    "id": "52326689-84a8-4b8f-a881-7c68780f62c9",
    "trusted": false
   },
   "outputs": [
    {
     "name": "stdout",
     "output_type": "stream",
     "text": [
      "0\n"
     ]
    }
   ],
   "source": [
    "# Revisa si hay filas totalmente duplicadas\n",
    "print(order_product.duplicated().sum())"
   ]
  },
  {
   "cell_type": "code",
   "execution_count": null,
   "id": "7b861391",
   "metadata": {
    "id": "7b861391",
    "trusted": false
   },
   "outputs": [
    {
     "name": "stdout",
     "output_type": "stream",
     "text": [
      "450046\n",
      "\n",
      "45573\n",
      "\n",
      "64\n",
      "\n",
      "2\n"
     ]
    }
   ],
   "source": [
    "# Vuelve a verificar si hay cualquier otro duplicado engañoso\n",
    "print(order_product['order_id'].nunique())\n",
    "print()\n",
    "print(order_product['product_id'].nunique())\n",
    "print()\n",
    "print(order_product['add_to_cart_order'].nunique())\n",
    "print()\n",
    "print(order_product['reordered'].nunique())\n",
    "\n",
    "#print()\n",
    "#print(order_product['add_to_cart_order'].sample(10))"
   ]
  },
  {
   "cell_type": "code",
   "execution_count": null,
   "id": "39421e5c",
   "metadata": {
    "trusted": false
   },
   "outputs": [
    {
     "name": "stdout",
     "output_type": "stream",
     "text": [
      "4094961\n",
      "\n",
      "4499434\n",
      "\n",
      "4544942\n",
      "\n",
      "4545005\n"
     ]
    }
   ],
   "source": [
    "print(order_product['order_id'].duplicated().sum())\n",
    "print()\n",
    "print(order_product['product_id'].duplicated().sum())\n",
    "print()\n",
    "print(order_product['add_to_cart_order'].duplicated().sum())\n",
    "print()\n",
    "print(order_product['reordered'].duplicated().sum())"
   ]
  },
  {
   "cell_type": "markdown",
   "id": "0b890492",
   "metadata": {
    "id": "0b890492"
   },
   "source": [
    "Describe brevemente tus hallazgos y lo que hiciste con ellos.\n",
    "\n",
    "A primera vista no tenemos filas duplicadas, pero al revisar columna por columna, nos damos cuenta que sí. A pesar de eso, no podemos eliminarlos, ya que son valores que estamos analizando por separado. Puede ser que algo se haya pedido varias veces y por eso ciertos valores se repiten."
   ]
  },
  {
   "cell_type": "markdown",
   "id": "1e46de76",
   "metadata": {
    "id": "1e46de76"
   },
   "source": [
    "## Encuentra y elimina los valores ausentes\n",
    "\n",
    "Al trabajar con valores duplicados, pudimos observar que también nos falta investigar valores ausentes:\n",
    "\n",
    "* La columna `'product_name'` de la tabla products.\n",
    "* La columna `'days_since_prior_order'` de la tabla orders.\n",
    "* La columna `'add_to_cart_order'` de la tabla order_productos."
   ]
  },
  {
   "cell_type": "markdown",
   "id": "c0aebd78",
   "metadata": {
    "id": "c0aebd78"
   },
   "source": [
    "### `products` data frame"
   ]
  },
  {
   "cell_type": "code",
   "execution_count": null,
   "id": "fe4a8b0f",
   "metadata": {
    "id": "fe4a8b0f",
    "trusted": false
   },
   "outputs": [
    {
     "name": "stdout",
     "output_type": "stream",
     "text": [
      "1257\n"
     ]
    }
   ],
   "source": [
    "# Encuentra los valores ausentes en la columna 'product_name'\n",
    "are_empty=products[products['product_name']== '']\n",
    "duplicates_count=are_empty['product_name'].duplicated().sum()\n",
    "print(duplicates_count)"
   ]
  },
  {
   "cell_type": "markdown",
   "id": "-A6x1AbJhjkp",
   "metadata": {
    "id": "-A6x1AbJhjkp"
   },
   "source": [
    "Describe brevemente cuáles son tus hallazgos.\n",
    "\n",
    "Tenemos una cantidad mayor a 1000 de valores ausentes."
   ]
  },
  {
   "cell_type": "code",
   "execution_count": null,
   "id": "e96167bc",
   "metadata": {
    "id": "e96167bc",
    "trusted": false
   },
   "outputs": [
    {
     "name": "stdout",
     "output_type": "stream",
     "text": [
      "       product_id product_name  aisle_id  department_id\n",
      "37             38                    100             21\n",
      "71             72                    100             21\n",
      "109           110                    100             21\n",
      "296           297                    100             21\n",
      "416           417                    100             21\n",
      "...           ...          ...       ...            ...\n",
      "49552       49553                    100             21\n",
      "49574       49575                    100             21\n",
      "49640       49641                    100             21\n",
      "49663       49664                    100             21\n",
      "49668       49669                    100             21\n",
      "\n",
      "[1258 rows x 4 columns]\n",
      "\n",
      "Empty DataFrame\n",
      "Columns: [product_id, product_name, aisle_id, department_id]\n",
      "Index: []\n"
     ]
    }
   ],
   "source": [
    "#  ¿Todos los nombres de productos ausentes están relacionados con el pasillo con ID 100?\n",
    "print(products.query(\"product_name == '' and aisle_id ==100\"))\n",
    "print()\n",
    "print(products.query(\"product_name == '' and aisle_id !=100\"))\n"
   ]
  },
  {
   "cell_type": "markdown",
   "id": "WRpIfXRphpSL",
   "metadata": {
    "id": "WRpIfXRphpSL"
   },
   "source": [
    "Describe brevemente cuáles son tus hallazgos.\n",
    "\n",
    "A través del filtrado con query, podemos ver que los nombres de productos que están vacios, si están relacionados al pasillo con ID 100."
   ]
  },
  {
   "cell_type": "code",
   "execution_count": null,
   "id": "8fd0a541",
   "metadata": {
    "id": "8fd0a541",
    "trusted": false
   },
   "outputs": [
    {
     "name": "stdout",
     "output_type": "stream",
     "text": [
      "Empty DataFrame\n",
      "Columns: [product_id, product_name, aisle_id, department_id]\n",
      "Index: []\n",
      "\n",
      "       product_id product_name  aisle_id  department_id\n",
      "37             38                    100             21\n",
      "71             72                    100             21\n",
      "109           110                    100             21\n",
      "296           297                    100             21\n",
      "416           417                    100             21\n",
      "...           ...          ...       ...            ...\n",
      "49552       49553                    100             21\n",
      "49574       49575                    100             21\n",
      "49640       49641                    100             21\n",
      "49663       49664                    100             21\n",
      "49668       49669                    100             21\n",
      "\n",
      "[1258 rows x 4 columns]\n"
     ]
    }
   ],
   "source": [
    "# ¿Todos los nombres de productos ausentes están relacionados con el departamento con ID 21?\n",
    "print(products.query(\"product_name == '' and department_id !=21\"))\n",
    "print()\n",
    "print(products.query(\"product_name == '' and department_id ==21\"))"
   ]
  },
  {
   "cell_type": "markdown",
   "id": "qDpdYn1Fht_I",
   "metadata": {
    "id": "qDpdYn1Fht_I"
   },
   "source": [
    "Describe brevemente cuáles son tus hallazgos.\n",
    "\n",
    "A través del filtrado con query, podemos ver que los nombres de productos que están vacios, si están relacionados al departamento con ID 21."
   ]
  },
  {
   "cell_type": "code",
   "execution_count": null,
   "id": "325c3464",
   "metadata": {
    "id": "325c3464",
    "trusted": false
   },
   "outputs": [
    {
     "name": "stdout",
     "output_type": "stream",
     "text": [
      "       product_id product_name  aisle_id  department_id    aisle\n",
      "16958          38                    100             21  missing\n",
      "16959          72                    100             21  missing\n",
      "16960         110                    100             21  missing\n",
      "16961         297                    100             21  missing\n",
      "16962         417                    100             21  missing\n",
      "...           ...          ...       ...            ...      ...\n",
      "18211       49553                    100             21  missing\n",
      "18212       49575                    100             21  missing\n",
      "18213       49641                    100             21  missing\n",
      "18214       49664                    100             21  missing\n",
      "18215       49669                    100             21  missing\n",
      "\n",
      "[1258 rows x 5 columns]\n"
     ]
    }
   ],
   "source": [
    "# Usa las tablas department y aisle para revisar los datos del pasillo con ID 100 y el departamento con ID 21.\n",
    "#print(products.query(\"product_name == '' and department_id ==21 and aisle_id ==100\"))\n",
    "\n",
    "both = products.merge(aisles,on='aisle_id', how='outer')\n",
    "print(both.query(\"product_name == '' and department_id ==21 and aisle_id ==100\"))\n"
   ]
  },
  {
   "cell_type": "markdown",
   "id": "nqhSTUPhhvEJ",
   "metadata": {
    "id": "nqhSTUPhhvEJ"
   },
   "source": [
    "Describe brevemente cuáles son tus hallazgos.\n",
    "\n",
    "Después de combinar las tablas, pudimos ver que todos los valores de pasillo con ID 100 y el departamento con ID 21 dice \"missing\", osea, que están perdidos."
   ]
  },
  {
   "cell_type": "code",
   "execution_count": null,
   "id": "6b295120",
   "metadata": {
    "id": "6b295120",
    "trusted": false
   },
   "outputs": [
    {
     "name": "stdout",
     "output_type": "stream",
     "text": [
      "0        False\n",
      "1        False\n",
      "2        False\n",
      "3        False\n",
      "4        False\n",
      "         ...  \n",
      "49689    False\n",
      "49690    False\n",
      "49691    False\n",
      "49692    False\n",
      "49693    False\n",
      "Name: product_name, Length: 49694, dtype: bool\n"
     ]
    }
   ],
   "source": [
    "# Completa los nombres de productos ausentes con 'Unknown'\n",
    "col4=products['product_name']\n",
    "\n",
    "new_empty=[]\n",
    "\n",
    "for names in col4:\n",
    "    if names == '':\n",
    "        new_empty_name='unknown'\n",
    "        new_empty.append(new_empty_name)\n",
    "    else:\n",
    "        new_empty.append(names)\n",
    "    \n",
    "    \n",
    "products['product_name']=new_empty\n",
    "print(products['product_name'].isna())"
   ]
  },
  {
   "cell_type": "markdown",
   "id": "fc70e5ad",
   "metadata": {
    "id": "fc70e5ad"
   },
   "source": [
    "Describe brevemente tus hallazgos y lo que hiciste con ellos.\n",
    "\n",
    "Para uno de los ejercicios anteriores, tuve que reemplazar los valores ausentes para poder ejecutar el código. Ahora, he reemplazado los valores ausentes con la palabra \"unknown\"."
   ]
  },
  {
   "cell_type": "markdown",
   "id": "7eb45c86",
   "metadata": {
    "id": "7eb45c86"
   },
   "source": [
    "### `orders` data frame"
   ]
  },
  {
   "cell_type": "code",
   "execution_count": null,
   "id": "93e41d96",
   "metadata": {
    "id": "93e41d96",
    "trusted": false
   },
   "outputs": [
    {
     "name": "stdout",
     "output_type": "stream",
     "text": [
      "order_id                      0\n",
      "user_id                       0\n",
      "order_number                  0\n",
      "order_dow                     0\n",
      "order_hour_of_day             0\n",
      "days_since_prior_order    28819\n",
      "dtype: int64\n"
     ]
    }
   ],
   "source": [
    "# Encuentra los valores ausentes\n",
    "print(insta_orders.isna().sum())"
   ]
  },
  {
   "cell_type": "code",
   "execution_count": null,
   "id": "166e5a86",
   "metadata": {
    "id": "166e5a86",
    "trusted": false
   },
   "outputs": [
    {
     "name": "stdout",
     "output_type": "stream",
     "text": [
      "<class 'pandas.core.frame.DataFrame'>\n",
      "RangeIndex: 478967 entries, 0 to 478966\n",
      "Data columns (total 6 columns):\n",
      " #   Column                  Non-Null Count   Dtype  \n",
      "---  ------                  --------------   -----  \n",
      " 0   order_id                478967 non-null  int64  \n",
      " 1   user_id                 478967 non-null  int64  \n",
      " 2   order_number            478967 non-null  int64  \n",
      " 3   order_dow               478967 non-null  int64  \n",
      " 4   order_hour_of_day       478967 non-null  int64  \n",
      " 5   days_since_prior_order  450148 non-null  float64\n",
      "dtypes: float64(1), int64(5)\n",
      "memory usage: 21.9 MB\n",
      "None\n",
      "\n",
      "order_id                  478952\n",
      "user_id                   157437\n",
      "order_number                 100\n",
      "order_dow                      7\n",
      "order_hour_of_day             24\n",
      "days_since_prior_order        31\n",
      "dtype: int64\n"
     ]
    }
   ],
   "source": [
    "# ¿Hay algún valor ausente que no sea el primer pedido del cliente?\n",
    "print(insta_orders.info())\n",
    "print()\n",
    "print(insta_orders.nunique())\n"
   ]
  },
  {
   "cell_type": "markdown",
   "id": "4e23d089",
   "metadata": {
    "id": "4e23d089"
   },
   "source": [
    "Describe brevemente tus hallazgos y lo que hiciste con ellos.\n",
    "A través de la información del dataframe y el recuento de valores únicos, podemos ver que solamente en la columna \" days_since_prior_order \" encontramos valores ausentes. "
   ]
  },
  {
   "cell_type": "markdown",
   "id": "69dc9ca4",
   "metadata": {
    "id": "69dc9ca4"
   },
   "source": [
    "### `order_products` data frame"
   ]
  },
  {
   "cell_type": "code",
   "execution_count": null,
   "id": "b8240253",
   "metadata": {
    "id": "b8240253",
    "trusted": false
   },
   "outputs": [
    {
     "name": "stdout",
     "output_type": "stream",
     "text": [
      "order_id               0\n",
      "product_id             0\n",
      "add_to_cart_order    836\n",
      "reordered              0\n",
      "dtype: int64\n",
      "\n",
      "0          False\n",
      "1          False\n",
      "2          False\n",
      "3          False\n",
      "4          False\n",
      "           ...  \n",
      "4545002    False\n",
      "4545003    False\n",
      "4545004    False\n",
      "4545005    False\n",
      "4545006    False\n",
      "Name: add_to_cart_order, Length: 4545007, dtype: bool\n"
     ]
    }
   ],
   "source": [
    "# Encuentra los valores ausentes\n",
    "\n",
    "print(order_product.isna().sum())\n",
    "print()\n",
    "print(order_product['add_to_cart_order'].isna())"
   ]
  },
  {
   "cell_type": "code",
   "execution_count": null,
   "id": "9a78e5ee",
   "metadata": {
    "id": "9a78e5ee",
    "trusted": false
   },
   "outputs": [
    {
     "name": "stdout",
     "output_type": "stream",
     "text": [
      "1.0\n",
      "\n",
      "64.0\n"
     ]
    }
   ],
   "source": [
    "# ¿Cuáles son los valores mínimos y máximos en esta columna?\n",
    "print(order_product['add_to_cart_order'].min())\n",
    "print()\n",
    "print(order_product['add_to_cart_order'].max())\n"
   ]
  },
  {
   "cell_type": "markdown",
   "id": "-Z2Ja215jW78",
   "metadata": {
    "id": "-Z2Ja215jW78"
   },
   "source": [
    "Describe brevemente cuáles son tus hallazgos.\n",
    "\n",
    "La columna 'add_to_cart' si tiene valores ausentes, pero podemos ver que tiene valores que van del 1 al 64. Lo cual es llamativo, porque si esta columna explica el proceso del carrito de compras, y empieza en 1, qué podrían ser los valores ausentes."
   ]
  },
  {
   "cell_type": "code",
   "execution_count": null,
   "id": "ab9d0c2b",
   "metadata": {
    "id": "ab9d0c2b",
    "trusted": false
   },
   "outputs": [
    {
     "name": "stdout",
     "output_type": "stream",
     "text": [
      "         order_id  product_id  add_to_cart_order  reordered\n",
      "737       2449164        5068                NaN          0\n",
      "9926      1968313       43867                NaN          0\n",
      "14394     2926893       11688                NaN          0\n",
      "16418     1717990        4142                NaN          0\n",
      "30114     1959075       42828                NaN          1\n",
      "...           ...         ...                ...        ...\n",
      "4505662   1800005        7411                NaN          0\n",
      "4511400   1633337         260                NaN          0\n",
      "4517562    404157        9517                NaN          0\n",
      "4534112   1673227       17835                NaN          0\n",
      "4535739   1832957       17949                NaN          1\n",
      "\n",
      "[836 rows x 4 columns]\n"
     ]
    }
   ],
   "source": [
    "# Guarda todas las IDs de pedidos que tengan un valor ausente en 'add_to_cart_order'\n",
    "non_value= order_product[order_product['add_to_cart_order'].isna()]\n",
    "\n",
    "missing_order_ids = non_value['order_id'].unique()\n",
    "print(non_value)"
   ]
  },
  {
   "cell_type": "code",
   "execution_count": null,
   "id": "54c31695",
   "metadata": {
    "id": "54c31695",
    "trusted": false
   },
   "outputs": [],
   "source": [
    "# ¿Todos los pedidos con valores ausentes tienen más de 64 productos?\n",
    "# Agrupa todos los pedidos con datos ausentes por su ID de pedido.\n",
    "# Cuenta el número de 'product_id' en cada pedido y revisa el valor mínimo del conteo.\n"
   ]
  },
  {
   "cell_type": "code",
   "execution_count": null,
   "id": "34c7dfb3",
   "metadata": {
    "trusted": false
   },
   "outputs": [
    {
     "name": "stdout",
     "output_type": "stream",
     "text": [
      "¿Todos los pedidos con valores ausentes tienen más de 64 productos? True\n"
     ]
    }
   ],
   "source": [
    "# ¿Todos los pedidos con valores ausentes tienen más de 64 productos?\n",
    "\n",
    "# Primero identificamos los pedidos con valores ausentes\n",
    "pedidos_con_ausentes = order_product[order_product['add_to_cart_order'].isna()]['order_id'].unique()\n",
    "\n",
    "# Contamos cuántos productos hay en cada pedido\n",
    "conteo_productos = order_product.groupby('order_id')['product_id'].count()\n",
    "\n",
    "todos_mas_de_64 = True\n",
    "\n",
    "# Verificamos cada pedido individualmente\n",
    "for pedido in pedidos_con_ausentes:\n",
    "    if pedido in conteo_productos.index:\n",
    "        if conteo_productos[pedido] <= 64:\n",
    "            todos_mas_de_64 = False\n",
    "            break\n",
    "    else:\n",
    "        # Si el pedido no está en conteo_productos, consideramos que no cumple la condición\n",
    "        todos_mas_de_64 = False\n",
    "        break\n",
    "        \n",
    "print(f\"¿Todos los pedidos con valores ausentes tienen más de 64 productos? {todos_mas_de_64}\")"
   ]
  },
  {
   "cell_type": "code",
   "execution_count": null,
   "id": "89ffd982",
   "metadata": {
    "trusted": false
   },
   "outputs": [
    {
     "name": "stdout",
     "output_type": "stream",
     "text": [
      "order_id\n",
      "9310        1\n",
      "61355      63\n",
      "102236     31\n",
      "129627      5\n",
      "165801      6\n",
      "           ..\n",
      "2999801     6\n",
      "3125735    22\n",
      "3308010    51\n",
      "3347453     7\n",
      "3383594     5\n",
      "Length: 70, dtype: int64\n"
     ]
    }
   ],
   "source": [
    "# Agrupa todos los pedidos con datos ausentes por su ID de pedido.\n",
    "empty_val= order_product[order_product['add_to_cart_order'].isna()]\n",
    "ordered_emtpy= empty_val.groupby('order_id').size()\n",
    "print(ordered_emtpy)"
   ]
  },
  {
   "cell_type": "code",
   "execution_count": null,
   "id": "f1dc9a76",
   "metadata": {
    "trusted": false
   },
   "outputs": [
    {
     "name": "stdout",
     "output_type": "stream",
     "text": [
      "order_id\n",
      "3421079      1\n",
      "1288686      1\n",
      "1288764      1\n",
      "1288825      1\n",
      "1288873      1\n",
      "          ... \n",
      "1959075     98\n",
      "171934     104\n",
      "2136777    108\n",
      "3308010    115\n",
      "61355      127\n",
      "Name: product_id, Length: 450046, dtype: int64\n"
     ]
    }
   ],
   "source": [
    "# Cuenta el número de 'product_id' en cada pedido y revisa el valor mínimo del conteo.\n",
    "counting = order_product.groupby('order_id')['product_id'].count()\n",
    "print(counting.sort_values())"
   ]
  },
  {
   "cell_type": "markdown",
   "id": "p9V6pddtjglj",
   "metadata": {
    "id": "p9V6pddtjglj"
   },
   "source": [
    "Describe brevemente cuáles son tus hallazgos.\n",
    "\n",
    "Pudimos ver que la columna de 'order_id' agrupada tiene una longitud de 70, lo cual quiere decir que se hizo el pedido de algo unas x cantidades de veces y tienen 'add_to_cart_order' en blanco."
   ]
  },
  {
   "cell_type": "code",
   "execution_count": null,
   "id": "7a987d08",
   "metadata": {
    "id": "7a987d08",
    "trusted": false
   },
   "outputs": [
    {
     "name": "stdout",
     "output_type": "stream",
     "text": [
      "<class 'pandas.core.frame.DataFrame'>\n",
      "RangeIndex: 4545007 entries, 0 to 4545006\n",
      "Data columns (total 4 columns):\n",
      " #   Column             Dtype  \n",
      "---  ------             -----  \n",
      " 0   order_id           int64  \n",
      " 1   product_id         int64  \n",
      " 2   add_to_cart_order  float64\n",
      " 3   reordered          int64  \n",
      "dtypes: float64(1), int64(3)\n",
      "memory usage: 138.7 MB\n",
      "None\n",
      "\n",
      "<class 'pandas.core.frame.DataFrame'>\n",
      "RangeIndex: 4545007 entries, 0 to 4545006\n",
      "Data columns (total 4 columns):\n",
      " #   Column             Dtype\n",
      "---  ------             -----\n",
      " 0   order_id           int64\n",
      " 1   product_id         int64\n",
      " 2   add_to_cart_order  int64\n",
      " 3   reordered          int64\n",
      "dtypes: int64(4)\n",
      "memory usage: 138.7 MB\n",
      "None\n"
     ]
    }
   ],
   "source": [
    "# Remplaza los valores ausentes en la columna 'add_to_cart? con 999 y convierte la columna al tipo entero.\n",
    "order_product['add_to_cart_order']=order_product['add_to_cart_order'].fillna(999)\n",
    "print(order_product.info())\n",
    "order_product['add_to_cart_order'] = order_product['add_to_cart_order'].astype('int')\n",
    "#print(order_product.isna().sum())\n",
    "print()\n",
    "print(order_product.info())"
   ]
  },
  {
   "cell_type": "markdown",
   "id": "fea4bcc7",
   "metadata": {
    "id": "fea4bcc7"
   },
   "source": [
    "Describe brevemente tus hallazgos y lo que hiciste con ellos.\n",
    "\n",
    "Para trabajar más fácilmente con el dataframe, rellené los espacios como se indicó. Así también cambié el tipo de dato de \"add_to_cart_order\" (esto último también realizado para trabajar más fácilmente con los datos)."
   ]
  },
  {
   "cell_type": "markdown",
   "id": "RnplPFY1gSrb",
   "metadata": {
    "id": "RnplPFY1gSrb"
   },
   "source": [
    "## Conclusiones\n",
    "\n",
    "Escribe aquí tus conclusiones intermedias sobre el Paso 2. Preprocesamiento de los datos\n",
    "\n",
    "A pesar de que los datos a primera vista parecen estar correctos, luego de aplicar métodos para encontrar duplicados, espacios en blanco y demás, se pudo ver que los mismos no estaban tan limpios y ordenados como parecían. \n"
   ]
  },
  {
   "cell_type": "markdown",
   "id": "UjrOIwTcz3ri",
   "metadata": {
    "id": "UjrOIwTcz3ri"
   },
   "source": [
    "# Paso 3. Análisis de los datos\n",
    "\n",
    "Una vez los datos estén procesados y listos, haz el siguiente análisis:"
   ]
  },
  {
   "cell_type": "markdown",
   "id": "turkish-kidney",
   "metadata": {
    "id": "turkish-kidney"
   },
   "source": [
    "# [A] Fácil (deben completarse todos para aprobar)\n",
    "\n",
    "1. Verifica que los valores en las columnas `'order_hour_of_day'` y `'order_dow'` en la tabla orders sean razonables (es decir, `'order_hour_of_day'` oscile entre 0 y 23 y `'order_dow'` oscile entre 0 y 6).\n",
    "2. Crea un gráfico que muestre el número de personas que hacen pedidos dependiendo de la hora del día.\n",
    "3. Crea un gráfico que muestre qué día de la semana la gente hace sus compras.\n",
    "4. Crea un gráfico que muestre el tiempo que la gente espera hasta hacer su siguiente pedido, y comenta sobre los valores mínimos y máximos."
   ]
  },
  {
   "cell_type": "markdown",
   "id": "short-capability",
   "metadata": {
    "id": "short-capability"
   },
   "source": [
    "### [A1] Verifica que los valores sean sensibles"
   ]
  },
  {
   "cell_type": "code",
   "execution_count": null,
   "id": "growing-fruit",
   "metadata": {
    "id": "growing-fruit",
    "trusted": false
   },
   "outputs": [
    {
     "name": "stdout",
     "output_type": "stream",
     "text": [
      "Valores únicos en 'order_hour_of_day': [0, 1, 2, 3, 4, 5, 6, 7, 8, 9, 10, 11, 12, 13, 14, 15, 16, 17, 18, 19, 20, 21, 22, 23]\n",
      "0      3180\n",
      "1      1763\n",
      "2      1004\n",
      "3       770\n",
      "4       765\n",
      "5      1371\n",
      "6      4215\n",
      "7     13043\n",
      "8     25024\n",
      "9     35896\n",
      "10    40578\n",
      "11    40032\n",
      "12    38034\n",
      "13    39007\n",
      "14    39631\n",
      "15    39789\n",
      "16    38112\n",
      "17    31930\n",
      "18    25510\n",
      "19    19547\n",
      "20    14624\n",
      "21    11019\n",
      "22     8512\n",
      "23     5611\n",
      "Name: order_hour_of_day, dtype: int64\n",
      "\n",
      "Valores únicos en 'order_dow': [0, 1, 2, 3, 4, 5, 6]\n",
      "0    84090\n",
      "1    82185\n",
      "2    65833\n",
      "3    60912\n",
      "4    59810\n",
      "5    63488\n",
      "6    62649\n",
      "Name: order_dow, dtype: int64\n",
      "\n",
      "Estadísticas de 'order_hour_of_day':\n",
      " count    478967.000000\n",
      "mean         13.446676\n",
      "std           4.224986\n",
      "min           0.000000\n",
      "25%          10.000000\n",
      "50%          13.000000\n",
      "75%          16.000000\n",
      "max          23.000000\n",
      "Name: order_hour_of_day, dtype: float64\n",
      "\n",
      "Estadísticas de 'order_dow':\n",
      " count    478967.000000\n",
      "mean          2.775058\n",
      "std           2.045869\n",
      "min           0.000000\n",
      "25%           1.000000\n",
      "50%           3.000000\n",
      "75%           5.000000\n",
      "max           6.000000\n",
      "Name: order_dow, dtype: float64\n"
     ]
    }
   ],
   "source": [
    "#Verifica que los valores en las columnas 'order_hour_of_day' y 'order_dow' en la tabla orders sean razonables \n",
    "#(es decir, 'order_hour_of_day' oscile entre 0 y 23 y 'order_dow' oscile entre 0 y 6).\n",
    "\n",
    "#insta_orders.info()\n",
    "#print('Valores para las horas del dia:',insta_orders['order_hour_of_day'].min(), insta_orders['order_hour_of_day'].max())\n",
    "#print()\n",
    "#print('Valores para los dias:',insta_orders['order_dow'].min(),insta_orders['order_dow'].max())\n",
    "\n",
    "\n",
    "\n",
    "# Valores únicos en order_hour_of_day\n",
    "print(\"Valores únicos en 'order_hour_of_day':\", sorted(insta_orders['order_hour_of_day'].unique()))\n",
    "print(insta_orders['order_hour_of_day'].value_counts().sort_index())\n",
    "\n",
    "# Valores únicos en order_dow\n",
    "print(\"\\nValores únicos en 'order_dow':\", sorted(insta_orders['order_dow'].unique()))\n",
    "print(insta_orders['order_dow'].value_counts().sort_index())\n",
    "\n",
    "# Estadísticas generales\n",
    "print(\"\\nEstadísticas de 'order_hour_of_day':\\n\", insta_orders['order_hour_of_day'].describe())\n",
    "print(\"\\nEstadísticas de 'order_dow':\\n\", insta_orders['order_dow'].describe())\n"
   ]
  },
  {
   "cell_type": "markdown",
   "id": "hmR2GNQ6lCsX",
   "metadata": {
    "id": "hmR2GNQ6lCsX"
   },
   "source": [
    "Escribe aquí tus conclusiones\n",
    "\n",
    "No hay ningun problema. El dia tiene 24 horas, y la semana 7 dias."
   ]
  },
  {
   "cell_type": "markdown",
   "id": "a6743a70",
   "metadata": {
    "id": "a6743a70"
   },
   "source": [
    "### [A2] Para cada hora del día, ¿cuántas personas hacen órdenes?"
   ]
  },
  {
   "cell_type": "code",
   "execution_count": null,
   "id": "a36cca27",
   "metadata": {
    "id": "a36cca27",
    "trusted": false
   },
   "outputs": [
    {
     "data": {
      "image/png": "[encoded data removed]",
      "text/plain": [
       "<Figure size 400x400 with 1 Axes>"
      ]
     },
     "metadata": {},
     "output_type": "display_data"
    }
   ],
   "source": [
    "#Crea un gráfico que muestre el número de personas que hacen pedidos dependiendo de la hora del día.\n",
    "#insta_orders.info()\n",
    "people_hour = insta_orders.groupby('order_hour_of_day')['user_id'].count()\n",
    "#print(people_hour)\n",
    "\n",
    "people_hour.plot(x='order_hour_of_day',y='user_id',xlabel='Horas',ylabel='Nº Usuarios',title='Número de personas con pedidos según hora del día', kind='bar',color='pink', figsize=[4,4],rot=90)\n",
    "\n",
    "#plt.xticks(rotation=0)  # You can adjust the degree of rotation (45, 90, etc.)\n",
    "\n",
    "# Make sure the rotated labels don't get cut off\n",
    "#plt.tight_layout()\n",
    "\n",
    "plt.show()"
   ]
  },
  {
   "cell_type": "markdown",
   "id": "11270eed",
   "metadata": {
    "id": "11270eed"
   },
   "source": [
    "Escribe aquí tus conclusiones\n",
    "\n",
    "Las horas en las que la gente hace más pedidos es entre las horas del mediodía, pero específicamente a las 10 am.\n",
    "También es interesante ver que la gente hace pedidos durante todo el día, incluso durante la madrugada."
   ]
  },
  {
   "cell_type": "markdown",
   "id": "documented-command",
   "metadata": {
    "id": "documented-command"
   },
   "source": [
    "### [A3] ¿Qué día de la semana compran víveres las personas?"
   ]
  },
  {
   "cell_type": "code",
   "execution_count": null,
   "id": "chief-digit",
   "metadata": {
    "id": "chief-digit",
    "trusted": false
   },
   "outputs": [
    {
     "data": {
      "image/png": "[encoded data removed]",
      "text/plain": [
       "<Figure size 400x400 with 1 Axes>"
      ]
     },
     "metadata": {},
     "output_type": "display_data"
    }
   ],
   "source": [
    "#Crea un gráfico que muestre qué día de la semana la gente hace sus compras.\n",
    "people_day = insta_orders.groupby('order_dow')['user_id'].count()\n",
    "#print(people_day)\n",
    "\n",
    "people_day.plot(x='order_dow',y='user_id',xlabel='Dias de la semana',ylabel='Nº Usuarios',title='Número de personas con pedidos según día de la semana', kind='bar',color='pink', figsize=[4,4],rot=90)\n",
    "plt.show()"
   ]
  },
  {
   "cell_type": "markdown",
   "id": "dominant-lightning",
   "metadata": {
    "id": "dominant-lightning"
   },
   "source": [
    "Escribe aquí tus conclusiones\n",
    "\n",
    "Los días con mayor compra son los domingos y lunes. Es interesante ver el nivel de compras de los viernes sea menora al del lunes."
   ]
  },
  {
   "cell_type": "markdown",
   "id": "cutting-concert",
   "metadata": {
    "id": "cutting-concert"
   },
   "source": [
    "### [A4] ¿Cuánto tiempo esperan las personas hasta hacer otro pedido? Comenta sobre los valores mínimos y máximos."
   ]
  },
  {
   "cell_type": "code",
   "execution_count": null,
   "id": "c231f523",
   "metadata": {
    "id": "c231f523",
    "trusted": false
   },
   "outputs": [
    {
     "data": {
      "image/png": "[encoded data removed]",
      "text/plain": [
       "<Figure size 640x480 with 1 Axes>"
      ]
     },
     "metadata": {},
     "output_type": "display_data"
    },
    {
     "name": "stdout",
     "output_type": "stream",
     "text": [
      "Menor tiempo: 0.0\n",
      "\n",
      "Mayor tiempo: 30.0\n"
     ]
    }
   ],
   "source": [
    "#Crea un gráfico que muestre el tiempo que la gente espera hasta hacer su siguiente pedido, \n",
    "#y comenta sobre los valores mínimos y máximos.\n",
    "\n",
    "#insta_orders.info()\n",
    "people_buying_time = insta_orders.groupby('days_since_prior_order')['user_id'].count()\n",
    "#print(people_buying_time)\n",
    "\n",
    "people_buying_time.plot(x='days_since_prior_order',y='user_id',xlabel='Tiempo de espera(días)',ylabel='Nº Usuarios',title='Cantidad de tiempo para realizar un pedido', kind='bar',color='pink')\n",
    "plt.show()\n",
    "\n",
    "min_days= people_buying_time.index.min()\n",
    "max_days = people_buying_time.index.max()\n",
    "\n",
    "print('Menor tiempo:',min_days)\n",
    "print()\n",
    "print('Mayor tiempo:',max_days)"
   ]
  },
  {
   "cell_type": "markdown",
   "id": "discrete-vertex",
   "metadata": {
    "id": "discrete-vertex"
   },
   "source": [
    "Escribe aquí tus conclusiones\n",
    "* Podemos ver que mucha gente espera 30 dias para volver a realizar otro pedido.\n",
    "* Los días entre pedidos que tienen 0, podrían significar que hay personas que realizan solamente una vez un pedido.\n",
    "* Uno de los valores más altos es cada 7 días. Esto puede deberse a que las personas les puede gustar iniciar la semana con la alacena hecha y completa.\n"
   ]
  },
  {
   "cell_type": "markdown",
   "id": "tight-staff",
   "metadata": {
    "id": "tight-staff"
   },
   "source": [
    "# [B] Intermedio (deben completarse todos para aprobar)\n",
    "\n",
    "1. ¿Existe alguna diferencia entre las distribuciones `'order_hour_of_day'` de los miércoles y los sábados? Traza gráficos de barra de `'order_hour_of_day'` para ambos días en la misma figura y describe las diferencias que observes.\n",
    "2. Grafica la distribución para el número de órdenes que hacen los clientes (es decir, cuántos clientes hicieron solo 1 pedido, cuántos hicieron 2, cuántos 3, y así sucesivamente...).\n",
    "3. ¿Cuáles son los 20 principales productos que se piden con más frecuencia (muestra su identificación y nombre)?"
   ]
  },
  {
   "cell_type": "markdown",
   "id": "packed-classic",
   "metadata": {
    "id": "packed-classic"
   },
   "source": [
    "### [B1] Diferencia entre miércoles y sábados para  `'order_hour_of_day'`. Traza gráficos de barra para los dos días y describe las diferencias que veas."
   ]
  },
  {
   "cell_type": "code",
   "execution_count": null,
   "id": "d89b8403",
   "metadata": {
    "id": "d89b8403",
    "trusted": false
   },
   "outputs": [
    {
     "data": {
      "image/png": "[encoded data removed]",
      "text/plain": [
       "<Figure size 1200x600 with 1 Axes>"
      ]
     },
     "metadata": {},
     "output_type": "display_data"
    }
   ],
   "source": [
    "#¿Existe alguna diferencia entre las distribuciones 'order_hour_of_day' de los miércoles y los sábados? \n",
    "#Traza gráficos de barra de 'order_hour_of_day' para ambos días en la misma figura y describe las diferencias que observes.\n",
    "\n",
    "#per_day = insta_orders.groupby('order_dow')['order_hour_of_day']\n",
    "\n",
    "#insta_orders.info()\n",
    "#print()\n",
    "#print(per_day)\n",
    "\n",
    "\n",
    "miercoles_orders = insta_orders[insta_orders['order_dow'] == 3]\n",
    "sabados_orders = insta_orders[insta_orders['order_dow'] == 6]\n",
    "\n",
    "wednesday_counts = miercoles_orders['order_hour_of_day'].value_counts().sort_index()\n",
    "saturday_counts = sabados_orders['order_hour_of_day'].value_counts().sort_index()\n",
    "\n",
    "\n",
    "insta_orders[insta_orders['order_dow'].isin([3, 6])].groupby(['order_hour_of_day', 'order_dow']).size().unstack().plot(kind='bar', figsize=(12,6), xlabel=\"Hora del día\", ylabel=\"Número de pedidos\",\n",
    "          title=\"Distribución de pedidos por hora: Miércoles vs. Sábado\", color=['blue', 'orange'])\n",
    "\n",
    "plt.legend([\"Miércoles\", \"Sábados\"])\n",
    "plt.grid(axis=\"y\", linestyle=\"--\", alpha=0.7)\n",
    "plt.show()\n"
   ]
  },
  {
   "cell_type": "markdown",
   "id": "charitable-congo",
   "metadata": {
    "id": "charitable-congo"
   },
   "source": [
    "Escribe aquí tus conclusiones\n",
    "\n",
    "Podemos ver que hay mas actividad de mañana que de noche y madrugada.\n",
    "Desde las 7 hasta las 10 de la mañana los miércoles son mayores a los sábados."
   ]
  },
  {
   "cell_type": "markdown",
   "id": "e3891143",
   "metadata": {
    "id": "e3891143"
   },
   "source": [
    "### [B2] ¿Cuál es la distribución para el número de pedidos por cliente?"
   ]
  },
  {
   "cell_type": "code",
   "execution_count": null,
   "id": "d8c26c23",
   "metadata": {
    "id": "d8c26c23",
    "trusted": false
   },
   "outputs": [],
   "source": [
    "#Grafica la distribución para el número de órdenes que hacen los clientes \n",
    "#(es decir, cuántos clientes hicieron solo 1 pedido, cuántos hicieron 2, cuántos 3, y así sucesivamente...)."
   ]
  },
  {
   "cell_type": "code",
   "execution_count": null,
   "id": "00e69a66",
   "metadata": {
    "id": "00e69a66",
    "trusted": false
   },
   "outputs": [
    {
     "data": {
      "image/png": "[encoded data removed]",
      "text/plain": [
       "<Figure size 1000x600 with 1 Axes>"
      ]
     },
     "metadata": {},
     "output_type": "display_data"
    }
   ],
   "source": [
    "#insta_orders.info()\n",
    "\n",
    "#buying_per_client = insta_orders.groupby('order_number')['user_id'].count()\n",
    "#print(buying_per_client)\n",
    "#print(insta_orders.head())\n",
    "\n",
    "\n",
    "buying_per_client = insta_orders.groupby('user_id')['order_number'].max().value_counts().sort_index()\n",
    "buying_per_client.plot(x='order_number',y='user_id',xlabel='Pedidos total por clientes',ylabel='Numero de clientes', title='Distribución de Pedidos por cliente',kind='bar',figsize=[10,6])\n",
    "plt.show()\n"
   ]
  },
  {
   "cell_type": "markdown",
   "id": "d2eff7d5",
   "metadata": {
    "id": "d2eff7d5"
   },
   "source": [
    "Escribe aquí tus conclusiones\n",
    "El mayor número es de 12000."
   ]
  },
  {
   "cell_type": "markdown",
   "id": "54a0319c",
   "metadata": {
    "id": "54a0319c"
   },
   "source": [
    "### [B3] ¿Cuáles son los 20 productos más populares (muestra su ID y nombre)?"
   ]
  },
  {
   "cell_type": "code",
   "execution_count": null,
   "id": "exterior-arizona",
   "metadata": {
    "id": "exterior-arizona",
    "scrolled": true,
    "trusted": false
   },
   "outputs": [],
   "source": [
    "#¿Cuáles son los 20 principales productos que se piden con más frecuencia (muestra su identificación y nombre)?"
   ]
  },
  {
   "cell_type": "code",
   "execution_count": null,
   "id": "universal-facial",
   "metadata": {
    "id": "universal-facial",
    "trusted": false
   },
   "outputs": [
    {
     "name": "stdout",
     "output_type": "stream",
     "text": [
      "    product_id  order_count              product_name\n",
      "0        24852        66050                    Banana\n",
      "1        13176        53297    Bag of Organic Bananas\n",
      "2        21137        37039      Organic Strawberries\n",
      "3        21903        33971      Organic Baby Spinach\n",
      "4        47209        29773      Organic Hass Avocado\n",
      "5        47766        24689           Organic Avocado\n",
      "6        47626        21495               Large Lemon\n",
      "7        16797        20018              Strawberries\n",
      "8        26209        19690                     Limes\n",
      "9        27845        19600        Organic Whole Milk\n",
      "10       27966        19197       Organic Raspberries\n",
      "11       22935        15898      Organic Yellow Onion\n",
      "12       24964        15292            Organic Garlic\n",
      "13       45007        14584          Organic Zucchini\n",
      "14       39275        13879       Organic Blueberries\n",
      "15       49683        13675            Cucumber Kirby\n",
      "16       28204        12544        Organic Fuji Apple\n",
      "17        5876        12232             Organic Lemon\n",
      "18        8277        11993  Apple Honeycrisp Organic\n",
      "19       40706        11781    Organic Grape Tomatoes\n"
     ]
    },
    {
     "data": {
      "image/png": "[encoded data removed]",
      "text/plain": [
       "<Figure size 640x480 with 1 Axes>"
      ]
     },
     "metadata": {},
     "output_type": "display_data"
    }
   ],
   "source": [
    "top_products = order_product['product_id'].value_counts().head(20).reset_index()\n",
    "top_products.columns = ['product_id', 'order_count']\n",
    "top_products = top_products.merge(products[['product_id', 'product_name']], on='product_id', how='left')\n",
    "\n",
    "print(top_products)\n",
    "\n",
    "top_products.plot(kind='barh',x='product_name',y='order_count', xlabel='Productos',ylabel='Cantidad',title='Top 20 productos',legend=False, color='pink')\n",
    "plt.show()"
   ]
  },
  {
   "cell_type": "markdown",
   "id": "7df00f47",
   "metadata": {
    "id": "7df00f47"
   },
   "source": [
    "Escribe aquí tus conclusiones\n",
    "\n",
    "Podemos ver que la mayoría de los productos son orgánicos."
   ]
  },
  {
   "cell_type": "markdown",
   "id": "gross-theme",
   "metadata": {
    "id": "gross-theme"
   },
   "source": [
    "# [C] Difícil (deben completarse todos para aprobar)\n",
    "\n",
    "1. ¿Cuántos artículos suelen comprar las personas en un pedido? ¿Cómo es la distribución?\n",
    "2. ¿Cuáles son los 20 principales artículos que vuelven a pedirse con mayor frecuencia (muestra sus nombres e IDs de los productos)?\n",
    "3. Para cada producto, ¿cuál es la tasa de repetición del pedido (número de repeticiones de pedido/total de pedidos?\n",
    "4. Para cada cliente, ¿qué proporción de los productos que pidió ya los había pedido? Calcula la tasa de repetición de pedido para cada usuario en lugar de para cada producto.\n",
    "5. ¿Cuáles son los 20 principales artículos que la gente pone primero en sus carritos (muestra las IDs de los productos, sus nombres, y el número de veces en que fueron el primer artículo en añadirse al carrito)?"
   ]
  },
  {
   "cell_type": "markdown",
   "id": "romantic-deposit",
   "metadata": {
    "id": "romantic-deposit"
   },
   "source": [
    "### [C1] ¿Cuántos artículos compran normalmente las personas en un pedido? ¿Cómo es la distribución?"
   ]
  },
  {
   "cell_type": "code",
   "execution_count": null,
   "id": "virtual-punch",
   "metadata": {
    "id": "virtual-punch",
    "trusted": false
   },
   "outputs": [],
   "source": [
    "#¿Cuántos artículos suelen comprar las personas en un pedido? ¿Cómo es la distribución?"
   ]
  },
  {
   "cell_type": "code",
   "execution_count": null,
   "id": "sensitive-breathing",
   "metadata": {
    "id": "sensitive-breathing",
    "trusted": false
   },
   "outputs": [
    {
     "name": "stdout",
     "output_type": "stream",
     "text": [
      "count    450046.000000\n",
      "mean         10.098983\n",
      "std           7.540206\n",
      "min           1.000000\n",
      "25%           5.000000\n",
      "50%           8.000000\n",
      "75%          14.000000\n",
      "max         127.000000\n",
      "Name: product_id, dtype: float64\n"
     ]
    }
   ],
   "source": [
    "items_per_order = order_product.groupby('order_id')['product_id'].count()\n",
    "\n",
    "# Mostrar estadísticas generales\n",
    "print(items_per_order.describe())"
   ]
  },
  {
   "cell_type": "code",
   "execution_count": null,
   "id": "completed-frank",
   "metadata": {
    "id": "completed-frank",
    "trusted": false
   },
   "outputs": [
    {
     "data": {
      "image/png": "[encoded data removed]",
      "text/plain": [
       "<Figure size 640x480 with 1 Axes>"
      ]
     },
     "metadata": {},
     "output_type": "display_data"
    }
   ],
   "source": [
    "items_per_order.plot(kind='hist',x='product_id',y='order_id',xlabel='Número de productos en un pedido',ylabel='cantidad de pedidos',title='Distribución de artículos por pedido',color='pink')\n",
    "plt.show()"
   ]
  },
  {
   "cell_type": "markdown",
   "id": "designed-mortality",
   "metadata": {
    "id": "designed-mortality"
   },
   "source": [
    "Escribe aquí tus conclusiones\n",
    "La mayoria de los pedidos tienen pocos articulos. A partir de 40 articulos, los pedidos son casi nulos.  "
   ]
  },
  {
   "cell_type": "markdown",
   "id": "5e6b5537",
   "metadata": {
    "id": "5e6b5537"
   },
   "source": [
    "### [C2] ¿Cuáles son los 20 principales artículos que vuelven a pedirse con mayor frecuencia (muestra sus nombres e IDs de los productos)?"
   ]
  },
  {
   "cell_type": "code",
   "execution_count": null,
   "id": "9374e55a",
   "metadata": {
    "id": "9374e55a",
    "trusted": false
   },
   "outputs": [],
   "source": [
    "#¿Cuáles son los 20 principales artículos que vuelven a pedirse con mayor frecuencia (muestra sus nombres e IDs de los productos)?"
   ]
  },
  {
   "cell_type": "code",
   "execution_count": null,
   "id": "possible-change",
   "metadata": {
    "id": "possible-change",
    "scrolled": true,
    "trusted": false
   },
   "outputs": [
    {
     "name": "stdout",
     "output_type": "stream",
     "text": [
      "    product_id  reorder_count              product_name\n",
      "0        24852          55763                    BANANA\n",
      "1        13176          44450    BAG OF ORGANIC BANANAS\n",
      "2        21137          28639      ORGANIC STRAWBERRIES\n",
      "3        21903          26233      ORGANIC BABY SPINACH\n",
      "4        47209          23629      ORGANIC HASS AVOCADO\n",
      "5        47766          18743           ORGANIC AVOCADO\n",
      "6        27845          16251        ORGANIC WHOLE MILK\n",
      "7        47626          15044               LARGE LEMON\n",
      "8        27966          14748       ORGANIC RASPBERRIES\n",
      "9        16797          13945              STRAWBERRIES\n",
      "10       26209          13327                     LIMES\n",
      "11       22935          11145      ORGANIC YELLOW ONION\n",
      "12       24964          10411            ORGANIC GARLIC\n",
      "13       45007          10076          ORGANIC ZUCCHINI\n",
      "14       49683           9538            CUCUMBER KIRBY\n",
      "15       28204           8989        ORGANIC FUJI APPLE\n",
      "16        8277           8836  APPLE HONEYCRISP ORGANIC\n",
      "17       39275           8799       ORGANIC BLUEBERRIES\n",
      "18        5876           8412             ORGANIC LEMON\n",
      "19       49235           8389       ORGANIC HALF & HALF\n"
     ]
    }
   ],
   "source": [
    "top_reordered = order_product[order_product['reordered'] == 1]  # Filtrar reordenados\n",
    "top_reordered = top_reordered['product_id'].value_counts().head(20).reset_index()\n",
    "top_reordered.columns = ['product_id', 'reorder_count']\n",
    "\n",
    "# Unir con el nombre del producto\n",
    "top_reordered = top_reordered.merge(products[['product_id', 'product_name']], on='product_id', how='left')\n",
    "\n",
    "print(top_reordered)\n",
    "\n",
    "\n",
    "\n",
    "#top_products.plot(kind='hist',title='Distribución de artículos por pedido',color='pink',figsize=[4,4])\n",
    "#plt.show()"
   ]
  },
  {
   "cell_type": "markdown",
   "id": "80e70c74",
   "metadata": {
    "id": "80e70c74"
   },
   "source": [
    "Escribe aquí tus conclusiones\n",
    "\n",
    "* Los productos que se piden con mayor frecuencia corresponden a las frutas y verduras. \n",
    "* De esto podemos suponer que, la mayoria de usuarios quieren tener una alimentación y dieta saludables.\n"
   ]
  },
  {
   "cell_type": "markdown",
   "id": "9d312b14",
   "metadata": {
    "id": "9d312b14"
   },
   "source": [
    "### [C3] Para cada producto, ¿cuál es la proporción de las veces que se pide y que se vuelve a pedir?"
   ]
  },
  {
   "cell_type": "code",
   "execution_count": null,
   "id": "8ae9f4b1",
   "metadata": {
    "id": "8ae9f4b1",
    "trusted": false
   },
   "outputs": [],
   "source": [
    "#Para cada producto, ¿cuál es la tasa de repetición del pedido (número de repeticiones de pedido/total de pedidos?"
   ]
  },
  {
   "cell_type": "code",
   "execution_count": null,
   "id": "103e7fe1",
   "metadata": {
    "id": "103e7fe1",
    "trusted": false
   },
   "outputs": [
    {
     "name": "stdout",
     "output_type": "stream",
     "text": [
      "       product_id                           product_name  reorder_rate\n",
      "0           24852                                 BANANA      0.844254\n",
      "1           13176                 BAG OF ORGANIC BANANAS      0.834006\n",
      "2           21137                   ORGANIC STRAWBERRIES      0.773212\n",
      "3           21903                   ORGANIC BABY SPINACH      0.772217\n",
      "4           47209                   ORGANIC HASS AVOCADO      0.793639\n",
      "...           ...                                    ...           ...\n",
      "45568       10543         BLUEBERRY PREMIUM FRUIT SPREAD      0.000000\n",
      "45569        5222              ORGANIC BEEF & BURGER RUB      0.000000\n",
      "45570        2347  PREMIUM MO' BETA FRUIT SMOOTHIE BLEND      0.000000\n",
      "45571       11893                                unknown      0.000000\n",
      "45572       32074          UNSCENTED SENSITIVE BODY WASH      0.000000\n",
      "\n",
      "[45573 rows x 3 columns]\n"
     ]
    }
   ],
   "source": [
    "# Contar el número total de pedidos por producto\n",
    "total_orders = order_product['product_id'].value_counts().reset_index()\n",
    "total_orders.columns = ['product_id', 'total_orders']\n",
    "\n",
    "# Contar cuántos de esos pedidos fueron reordenados\n",
    "reordered_counts = order_product[order_product['reordered'] == 1]['product_id'].value_counts().reset_index()\n",
    "reordered_counts.columns = ['product_id', 'reordered_orders']\n",
    "\n",
    "# Unir ambos DataFrames\n",
    "reorder_rate = total_orders.merge(reordered_counts, on='product_id', how='left')\n",
    "\n",
    "# Calcular la tasa de repetición\n",
    "reorder_rate['reordered_orders'] = reorder_rate['reordered_orders'].fillna(0)\n",
    "reorder_rate['reorder_rate'] = reorder_rate['reordered_orders'] / reorder_rate['total_orders']\n",
    "\n",
    "# Unir con los nombres de los productos\n",
    "reorder_rate = reorder_rate.merge(products[['product_id', 'product_name']], on='product_id', how='left')\n",
    "\n",
    "# Mostrar el resultado\n",
    "print(reorder_rate[['product_id', 'product_name', 'reorder_rate']])\n"
   ]
  },
  {
   "cell_type": "markdown",
   "id": "I10dEIAyldcO",
   "metadata": {
    "id": "I10dEIAyldcO"
   },
   "source": [
    "Escribe aquí tus conclusiones\n",
    "\n",
    "Podemos ver que por ejemplo, la tasa de repeticion de la banana es una de las mas altas. Es interesante ver que por ejemplo la carne no tiene tasa de repeticion. Tambien se puede ver que los productos organicos son pedidos reiteradas veces. "
   ]
  },
  {
   "cell_type": "markdown",
   "id": "subject-boxing",
   "metadata": {
    "id": "subject-boxing"
   },
   "source": [
    "### [C4] Para cada cliente, ¿qué proporción de sus productos ya los había pedido?"
   ]
  },
  {
   "cell_type": "code",
   "execution_count": null,
   "id": "medical-couple",
   "metadata": {
    "id": "medical-couple",
    "scrolled": true,
    "trusted": false
   },
   "outputs": [],
   "source": [
    "#Para cada cliente, ¿qué proporción de los productos que pidió ya los había pedido? \n",
    "#Calcula la tasa de repetición de pedido para cada usuario en lugar de para cada producto."
   ]
  },
  {
   "cell_type": "code",
   "execution_count": null,
   "id": "8892e4b4",
   "metadata": {
    "id": "8892e4b4",
    "trusted": false
   },
   "outputs": [
    {
     "name": "stdout",
     "output_type": "stream",
     "text": [
      "         total_products  reordered_products  reorder_rate\n",
      "user_id                                                  \n",
      "2                    26                   1      0.038462\n",
      "4                     2                   0      0.000000\n",
      "5                    12                   8      0.666667\n",
      "6                     4                   0      0.000000\n",
      "7                    14                  13      0.928571\n",
      "...                 ...                 ...           ...\n",
      "206203               27                   6      0.222222\n",
      "206206               21                  15      0.714286\n",
      "206207               46                  41      0.891304\n",
      "206208              125                  87      0.696000\n",
      "206209               25                   8      0.320000\n",
      "\n",
      "[149626 rows x 3 columns]\n"
     ]
    },
    {
     "data": {
      "image/png": "[encoded data removed]",
      "text/plain": [
       "<Figure size 640x480 with 1 Axes>"
      ]
     },
     "metadata": {},
     "output_type": "display_data"
    }
   ],
   "source": [
    "order_insta= insta_orders.merge(order_product,on='order_id')\n",
    "#print(order_insta)\n",
    "\n",
    "# Paso 2: Agrupar por usuario y calcular la proporción de productos reordenados\n",
    "user_reorder_rates = order_insta.groupby('user_id').agg(\n",
    "    total_products=('product_id', 'count'),\n",
    "    reordered_products=('reordered', 'sum')\n",
    ")\n",
    "\n",
    "# Paso 3: Calcular la proporción\n",
    "user_reorder_rates['reorder_rate'] = user_reorder_rates['reordered_products'] / user_reorder_rates['total_products']\n",
    "\n",
    "# Mostrar los resultados\n",
    "print(user_reorder_rates)\n",
    "\n",
    "user_reorder_rates['reorder_rate'].plot(kind='hist',title='Distribución de Tasas de Repetición por Usuario',bins=20)\n",
    "plt.show()"
   ]
  },
  {
   "cell_type": "markdown",
   "id": "BgJSvXDsleXz",
   "metadata": {
    "id": "BgJSvXDsleXz"
   },
   "source": [
    "Escribe aquí tus conclusiones\n",
    "\n",
    "12000 usuarios tienen una tasa de frecuencia de alrededor 0.5. Casi 16500 usuarios tienen una tasa 0, lo que significa que no han vuelto a comprar."
   ]
  },
  {
   "cell_type": "markdown",
   "id": "92d35137",
   "metadata": {
    "id": "92d35137"
   },
   "source": [
    "### [C5] ¿Cuáles son los 20 principales artículos que las personas ponen primero en sus carritos?"
   ]
  },
  {
   "cell_type": "code",
   "execution_count": null,
   "id": "0ae57274",
   "metadata": {
    "id": "0ae57274",
    "scrolled": true,
    "trusted": false
   },
   "outputs": [],
   "source": [
    "#¿Cuáles son los 20 principales artículos que la gente pone primero en sus carritos \n",
    "#(muestra las IDs de los productos, sus nombres, y el número de veces en que fueron el primer artículo en añadirse al carrito)?"
   ]
  },
  {
   "cell_type": "code",
   "execution_count": null,
   "id": "forty-netherlands",
   "metadata": {
    "id": "forty-netherlands",
    "scrolled": true,
    "trusted": false
   },
   "outputs": [
    {
     "name": "stdout",
     "output_type": "stream",
     "text": [
      "    product_id  count                 product_name\n",
      "0        24852  15562                       BANANA\n",
      "1        13176  11026       BAG OF ORGANIC BANANAS\n",
      "2        27845   4363           ORGANIC WHOLE MILK\n",
      "3        21137   3946         ORGANIC STRAWBERRIES\n",
      "4        47209   3390         ORGANIC HASS AVOCADO\n",
      "5        21903   3336         ORGANIC BABY SPINACH\n",
      "6        47766   3044              ORGANIC AVOCADO\n",
      "7        19660   2336                 SPRING WATER\n",
      "8        16797   2308                 STRAWBERRIES\n",
      "9        27966   2024          ORGANIC RASPBERRIES\n",
      "10       44632   1914   SPARKLING WATER GRAPEFRUIT\n",
      "11       49235   1797          ORGANIC HALF & HALF\n",
      "12       47626   1737                  LARGE LEMON\n",
      "13         196   1733                         SODA\n",
      "14       38689   1397     ORGANIC REDUCED FAT MILK\n",
      "15       26209   1370                        LIMES\n",
      "16       12341   1340                HASS AVOCADOS\n",
      "17        5785   1310  ORGANIC REDUCED FAT 2% MILK\n",
      "18       27086   1309                  HALF & HALF\n",
      "19       43352   1246                  RASPBERRIES\n"
     ]
    }
   ],
   "source": [
    "# Paso 1: Filtrar solo los productos que fueron añadidos primero al carrito\n",
    "first_items = order_product[order_product['add_to_cart_order'] == 1]\n",
    "\n",
    "# Paso 2: Contar cuántas veces cada producto fue el primero en añadirse\n",
    "first_item_counts = first_items.groupby('product_id').size().reset_index(name='count')\n",
    "\n",
    "# Paso 3: Ordenar de mayor a menor según la frecuencia\n",
    "first_item_counts = first_item_counts.sort_values('count', ascending=False)\n",
    "\n",
    "# Paso 4: Unir con la tabla de productos para obtener los nombres\n",
    "top_first_items = pd.merge(first_item_counts, products[['product_id', 'product_name']], on='product_id')\n",
    "\n",
    "# Paso 5: Mostrar los 20 principales\n",
    "top_20_first_items = top_first_items.head(20)\n",
    "print(top_20_first_items)"
   ]
  },
  {
   "cell_type": "markdown",
   "id": "28ce9872",
   "metadata": {
    "id": "28ce9872"
   },
   "source": [
    "Escribe aquí tus conclusiones\n",
    "De nuevo, la banana es la elegida por la gente. Podemos ver de nuevo que los primeros resultados indican que la gente siempre escoge sus frutas o verduras primero."
   ]
  },
  {
   "cell_type": "markdown",
   "id": "uITbFCEoDosC",
   "metadata": {
    "id": "uITbFCEoDosC"
   },
   "source": [
    "### Conclusion general del proyecto:"
   ]
  },
  {
   "cell_type": "markdown",
   "id": "d8499b06",
   "metadata": {},
   "source": [
    "**Proyecto: Análisis de Pedidos en Instacart\n",
    "A lo largo de este proyecto, se realizó un análisis detallado de los datos de pedidos de la plataforma Instacart.**\n",
    "\n",
    "A continuación, se presentan los pasos realizados y las conclusiones clave:\n",
    "\n",
    "1. Carga e Importación de Datos\n",
    "Se importaron y exploraron los datasets relacionados con pedidos, productos, pasillos y departamentos.\n",
    "Se verificó la estructura de los datos y se identificaron valores nulos en algunas columnas.\n",
    "2. Limpieza y Preparación de los Datos\n",
    "Se manejaron valores nulos en la columna days_since_prior_order, ya que estos correspondían a clientes que realizaban su primer pedido.\n",
    "Se verificó que los valores en order_hour_of_day (0-23) y order_dow (0-6) fueran razonables.\n",
    "Se comprobó que la variable add_to_cart_order tuviera un máximo de 64, lo que sugiere una posible restricción en el sistema de Instacart.\n",
    "3. Análisis de Frecuencia de Pedidos\n",
    "Se identificaron los 20 productos más pedidos, mostrando sus nombres e identificadores.\n",
    "Se realizó un gráfico de barras para visualizar estos productos y sus respectivas cantidades.\n",
    "4. Análisis de Reordenamiento de Productos\n",
    "Se calcularon los productos más frecuentemente reordenados.\n",
    "Se analizó la tasa de repetición de cada producto como la relación entre reordenamientos y pedidos totales.\n",
    "5. Distribución de Artículos por Pedido\n",
    "Se analizó la cantidad de artículos comprados por pedido y se generó una distribución visual.\n",
    "Se concluyó que la mayoría de los pedidos contienen menos de 20 artículos.\n",
    "\n",
    "Conclusiones Generales\n",
    "* Tendencias de Pedido: La mayoría de los pedidos contienen pocos productos, con un límite máximo de 64 artículos.\n",
    "* Productos más populares: Se identificaron los productos más vendidos y los más reordenados, lo que puede ayudar a optimizar la disponibilidad de inventario.\n",
    "* Tasa de reordenamiento: Se determinó qué productos tienen mayor recurrencia en los pedidos, información útil para promociones y estrategias de marketing.\n",
    "* Calidad de los datos: No se encontraron valores inconsistentes en variables clave como el día y la hora del pedido."
   ]
  },
  {
   "cell_type": "code",
   "execution_count": null,
   "id": "efa0a57a",
   "metadata": {
    "trusted": false
   },
   "outputs": [],
   "source": []
  }
 ],
 "metadata": {
  "ExecuteTimeLog": [
   {
    "duration": 358,
    "start_time": "2025-03-03T06:22:21.943Z"
   },
   {
    "duration": 290,
    "start_time": "2025-03-03T06:23:11.942Z"
   },
   {
    "duration": 277,
    "start_time": "2025-03-03T06:23:15.094Z"
   },
   {
    "duration": 2596,
    "start_time": "2025-03-03T06:25:16.161Z"
   },
   {
    "duration": 24,
    "start_time": "2025-03-03T06:25:50.622Z"
   },
   {
    "duration": 20,
    "start_time": "2025-03-03T06:25:59.293Z"
   },
   {
    "duration": 9,
    "start_time": "2025-03-03T06:28:43.604Z"
   },
   {
    "duration": 7,
    "start_time": "2025-03-03T06:28:52.557Z"
   },
   {
    "duration": 7,
    "start_time": "2025-03-03T06:29:00.220Z"
   },
   {
    "duration": 7,
    "start_time": "2025-03-03T06:29:10.243Z"
   },
   {
    "duration": 19,
    "start_time": "2025-03-03T06:38:35.217Z"
   },
   {
    "duration": 9,
    "start_time": "2025-03-03T06:39:44.476Z"
   },
   {
    "duration": 3123,
    "start_time": "2025-03-03T06:41:31.166Z"
   },
   {
    "duration": 19,
    "start_time": "2025-03-03T06:41:34.292Z"
   },
   {
    "duration": 12,
    "start_time": "2025-03-03T06:41:40.574Z"
   },
   {
    "duration": 838,
    "start_time": "2025-03-03T06:41:48.268Z"
   },
   {
    "duration": 10,
    "start_time": "2025-03-03T06:41:50.087Z"
   },
   {
    "duration": 10,
    "start_time": "2025-03-03T06:41:53.477Z"
   },
   {
    "duration": 9,
    "start_time": "2025-03-03T06:41:56.388Z"
   },
   {
    "duration": 10,
    "start_time": "2025-03-03T06:41:59.588Z"
   },
   {
    "duration": 7,
    "start_time": "2025-03-03T06:42:06.333Z"
   },
   {
    "duration": 2,
    "start_time": "2025-03-03T06:42:36.126Z"
   },
   {
    "duration": 561,
    "start_time": "2025-03-03T07:01:10.053Z"
   },
   {
    "duration": 13,
    "start_time": "2025-03-03T07:01:22.244Z"
   },
   {
    "duration": 72,
    "start_time": "2025-03-03T07:01:43.569Z"
   },
   {
    "duration": 80,
    "start_time": "2025-03-03T07:02:30.906Z"
   },
   {
    "duration": 77,
    "start_time": "2025-03-03T07:02:49.220Z"
   },
   {
    "duration": 80,
    "start_time": "2025-03-03T07:04:11.426Z"
   },
   {
    "duration": 141,
    "start_time": "2025-03-03T07:04:57.570Z"
   },
   {
    "duration": 30,
    "start_time": "2025-03-03T07:12:36.700Z"
   },
   {
    "duration": 24,
    "start_time": "2025-03-03T07:12:54.340Z"
   },
   {
    "duration": 9,
    "start_time": "2025-03-03T07:13:34.582Z"
   },
   {
    "duration": 8,
    "start_time": "2025-03-03T07:13:59.479Z"
   },
   {
    "duration": 8,
    "start_time": "2025-03-03T07:14:17.284Z"
   },
   {
    "duration": 10,
    "start_time": "2025-03-03T07:14:24.211Z"
   },
   {
    "duration": 85,
    "start_time": "2025-03-03T07:19:13.657Z"
   },
   {
    "duration": 161,
    "start_time": "2025-03-03T07:19:38.829Z"
   },
   {
    "duration": 148,
    "start_time": "2025-03-03T07:19:55.619Z"
   },
   {
    "duration": 167,
    "start_time": "2025-03-03T07:21:27.209Z"
   },
   {
    "duration": 12,
    "start_time": "2025-03-03T07:22:38.626Z"
   },
   {
    "duration": 14,
    "start_time": "2025-03-03T07:23:23.200Z"
   },
   {
    "duration": 151,
    "start_time": "2025-03-03T07:23:29.915Z"
   },
   {
    "duration": 70,
    "start_time": "2025-03-03T07:23:40.235Z"
   },
   {
    "duration": 246,
    "start_time": "2025-03-03T07:25:22.214Z"
   },
   {
    "duration": 38,
    "start_time": "2025-03-03T07:25:49.092Z"
   },
   {
    "duration": 4,
    "start_time": "2025-03-03T07:32:13.809Z"
   },
   {
    "duration": 14,
    "start_time": "2025-03-03T07:32:18.025Z"
   },
   {
    "duration": 21,
    "start_time": "2025-03-03T07:32:55.956Z"
   },
   {
    "duration": 5,
    "start_time": "2025-03-03T07:33:52.012Z"
   },
   {
    "duration": 14,
    "start_time": "2025-03-03T07:36:14.441Z"
   },
   {
    "duration": 25,
    "start_time": "2025-03-03T07:40:52.426Z"
   },
   {
    "duration": 18,
    "start_time": "2025-03-03T07:41:08.617Z"
   },
   {
    "duration": 31,
    "start_time": "2025-03-03T07:42:08.721Z"
   },
   {
    "duration": 26,
    "start_time": "2025-03-03T07:42:19.220Z"
   },
   {
    "duration": 22,
    "start_time": "2025-03-03T07:42:36.034Z"
   },
   {
    "duration": 30,
    "start_time": "2025-03-03T07:43:04.465Z"
   },
   {
    "duration": 210,
    "start_time": "2025-03-03T07:46:47.903Z"
   },
   {
    "duration": 11,
    "start_time": "2025-03-03T07:47:21.864Z"
   },
   {
    "duration": 10,
    "start_time": "2025-03-03T07:49:03.691Z"
   },
   {
    "duration": 33,
    "start_time": "2025-03-03T07:51:46.974Z"
   },
   {
    "duration": 14,
    "start_time": "2025-03-03T07:52:48.666Z"
   },
   {
    "duration": 4,
    "start_time": "2025-03-03T07:52:58.561Z"
   },
   {
    "duration": 21,
    "start_time": "2025-03-03T07:53:28.452Z"
   },
   {
    "duration": 4,
    "start_time": "2025-03-03T07:54:00.724Z"
   },
   {
    "duration": 4,
    "start_time": "2025-03-03T07:55:28.730Z"
   },
   {
    "duration": 3,
    "start_time": "2025-03-03T07:55:47.233Z"
   },
   {
    "duration": 762,
    "start_time": "2025-03-03T07:56:49.450Z"
   },
   {
    "duration": 14,
    "start_time": "2025-03-03T07:57:43.701Z"
   },
   {
    "duration": 129,
    "start_time": "2025-03-03T08:00:27.777Z"
   },
   {
    "duration": 157,
    "start_time": "2025-03-03T08:01:01.103Z"
   },
   {
    "duration": 301,
    "start_time": "2025-03-03T08:01:41.689Z"
   },
   {
    "duration": 119,
    "start_time": "2025-03-03T08:01:50.024Z"
   },
   {
    "duration": 188,
    "start_time": "2025-03-03T08:02:38.858Z"
   },
   {
    "duration": 214,
    "start_time": "2025-03-03T08:05:56.448Z"
   },
   {
    "duration": 7,
    "start_time": "2025-03-03T08:08:35.985Z"
   },
   {
    "duration": 8,
    "start_time": "2025-03-03T08:11:27.401Z"
   },
   {
    "duration": 9,
    "start_time": "2025-03-03T08:12:53.682Z"
   },
   {
    "duration": 6,
    "start_time": "2025-03-03T08:13:08.298Z"
   },
   {
    "duration": 12,
    "start_time": "2025-03-03T08:13:46.408Z"
   },
   {
    "duration": 6,
    "start_time": "2025-03-03T08:14:04.986Z"
   },
   {
    "duration": 12,
    "start_time": "2025-03-03T08:14:22.893Z"
   },
   {
    "duration": 8,
    "start_time": "2025-03-03T08:15:54.591Z"
   },
   {
    "duration": 138,
    "start_time": "2025-03-03T08:22:30.720Z"
   },
   {
    "duration": 9,
    "start_time": "2025-03-03T08:22:53.377Z"
   },
   {
    "duration": 5,
    "start_time": "2025-03-03T08:24:58.772Z"
   },
   {
    "duration": 18,
    "start_time": "2025-03-03T08:25:03.524Z"
   },
   {
    "duration": 14,
    "start_time": "2025-03-03T08:25:49.009Z"
   },
   {
    "duration": 21,
    "start_time": "2025-03-03T08:27:09.758Z"
   },
   {
    "duration": 13,
    "start_time": "2025-03-03T08:34:40.337Z"
   },
   {
    "duration": 6,
    "start_time": "2025-03-03T08:39:18.473Z"
   },
   {
    "duration": 10,
    "start_time": "2025-03-03T08:40:41.238Z"
   },
   {
    "duration": 50,
    "start_time": "2025-03-03T08:41:09.411Z"
   },
   {
    "duration": 15,
    "start_time": "2025-03-03T08:43:10.090Z"
   },
   {
    "duration": 31,
    "start_time": "2025-03-03T08:44:00.204Z"
   },
   {
    "duration": 149,
    "start_time": "2025-03-03T08:49:56.532Z"
   },
   {
    "duration": 18,
    "start_time": "2025-03-03T08:50:36.096Z"
   },
   {
    "duration": 145,
    "start_time": "2025-03-03T08:53:16.335Z"
   },
   {
    "duration": 7,
    "start_time": "2025-03-03T09:04:33.562Z"
   },
   {
    "duration": 6,
    "start_time": "2025-03-03T09:04:44.667Z"
   },
   {
    "duration": 9,
    "start_time": "2025-03-03T09:05:05.408Z"
   },
   {
    "duration": 241,
    "start_time": "2025-03-03T09:08:56.232Z"
   },
   {
    "duration": 6,
    "start_time": "2025-03-03T11:51:16.834Z"
   },
   {
    "duration": 7,
    "start_time": "2025-03-03T11:51:23.791Z"
   },
   {
    "duration": 22,
    "start_time": "2025-03-03T11:51:45.638Z"
   },
   {
    "duration": 59,
    "start_time": "2025-03-03T11:52:46.217Z"
   },
   {
    "duration": 7,
    "start_time": "2025-03-03T11:54:01.777Z"
   },
   {
    "duration": 9,
    "start_time": "2025-03-03T11:55:17.640Z"
   },
   {
    "duration": 47,
    "start_time": "2025-03-03T11:59:54.393Z"
   },
   {
    "duration": 50,
    "start_time": "2025-03-03T12:00:27.854Z"
   },
   {
    "duration": 84,
    "start_time": "2025-03-03T12:03:05.376Z"
   },
   {
    "duration": 52,
    "start_time": "2025-03-03T12:04:20.958Z"
   },
   {
    "duration": 323,
    "start_time": "2025-03-03T12:09:36.957Z"
   },
   {
    "duration": 16,
    "start_time": "2025-03-03T12:10:48.111Z"
   },
   {
    "duration": 390,
    "start_time": "2025-03-03T12:11:37.526Z"
   },
   {
    "duration": 399,
    "start_time": "2025-03-03T12:11:54.489Z"
   },
   {
    "duration": 423,
    "start_time": "2025-03-03T12:12:08.128Z"
   },
   {
    "duration": 12,
    "start_time": "2025-03-03T12:18:24.628Z"
   },
   {
    "duration": 8,
    "start_time": "2025-03-03T12:20:40.628Z"
   },
   {
    "duration": 12,
    "start_time": "2025-03-03T12:22:22.229Z"
   },
   {
    "duration": 24,
    "start_time": "2025-03-03T12:23:00.469Z"
   },
   {
    "duration": 26,
    "start_time": "2025-03-03T12:23:36.846Z"
   },
   {
    "duration": 10,
    "start_time": "2025-03-03T12:24:13.582Z"
   },
   {
    "duration": 2193,
    "start_time": "2025-03-03T12:29:23.429Z"
   },
   {
    "duration": 3,
    "start_time": "2025-03-03T12:30:47.038Z"
   },
   {
    "duration": 197,
    "start_time": "2025-03-03T12:30:52.512Z"
   },
   {
    "duration": 183,
    "start_time": "2025-03-03T12:31:19.413Z"
   },
   {
    "duration": 193,
    "start_time": "2025-03-03T12:31:43.750Z"
   },
   {
    "duration": 195,
    "start_time": "2025-03-03T12:31:49.643Z"
   },
   {
    "duration": 172,
    "start_time": "2025-03-03T12:31:56.636Z"
   },
   {
    "duration": 194,
    "start_time": "2025-03-03T12:32:56.196Z"
   },
   {
    "duration": 269,
    "start_time": "2025-03-03T12:34:51.824Z"
   },
   {
    "duration": 331,
    "start_time": "2025-03-03T12:34:59.748Z"
   },
   {
    "duration": 274,
    "start_time": "2025-03-03T12:35:07.607Z"
   },
   {
    "duration": 264,
    "start_time": "2025-03-03T12:35:17.823Z"
   },
   {
    "duration": 303,
    "start_time": "2025-03-03T12:35:27.691Z"
   },
   {
    "duration": 441,
    "start_time": "2025-03-03T12:36:09.819Z"
   },
   {
    "duration": 175,
    "start_time": "2025-03-03T12:36:25.330Z"
   },
   {
    "duration": 10,
    "start_time": "2025-03-03T12:36:49.307Z"
   },
   {
    "duration": 195,
    "start_time": "2025-03-03T12:37:47.390Z"
   },
   {
    "duration": 121,
    "start_time": "2025-03-03T12:38:00.803Z"
   },
   {
    "duration": 11,
    "start_time": "2025-03-03T12:38:47.509Z"
   },
   {
    "duration": 10,
    "start_time": "2025-03-03T12:39:58.696Z"
   },
   {
    "duration": 19,
    "start_time": "2025-03-03T12:40:11.403Z"
   },
   {
    "duration": 11,
    "start_time": "2025-03-03T12:40:29.250Z"
   },
   {
    "duration": 202,
    "start_time": "2025-03-03T12:41:41.157Z"
   },
   {
    "duration": 206,
    "start_time": "2025-03-03T12:42:00.371Z"
   },
   {
    "duration": 216,
    "start_time": "2025-03-03T12:42:38.915Z"
   },
   {
    "duration": 222,
    "start_time": "2025-03-03T12:43:17.085Z"
   },
   {
    "duration": 208,
    "start_time": "2025-03-03T12:46:43.706Z"
   },
   {
    "duration": 187,
    "start_time": "2025-03-03T12:47:31.788Z"
   },
   {
    "duration": 115,
    "start_time": "2025-03-03T12:47:56.145Z"
   },
   {
    "duration": 221,
    "start_time": "2025-03-03T12:48:11.937Z"
   },
   {
    "duration": 204,
    "start_time": "2025-03-03T12:52:14.892Z"
   },
   {
    "duration": 204,
    "start_time": "2025-03-03T12:52:27.840Z"
   },
   {
    "duration": 15,
    "start_time": "2025-03-03T12:58:09.505Z"
   },
   {
    "duration": 4,
    "start_time": "2025-03-03T12:59:11.999Z"
   },
   {
    "duration": 11,
    "start_time": "2025-03-03T12:59:36.646Z"
   },
   {
    "duration": 10,
    "start_time": "2025-03-03T12:59:42.733Z"
   },
   {
    "duration": 149,
    "start_time": "2025-03-03T13:03:25.770Z"
   },
   {
    "duration": 12,
    "start_time": "2025-03-03T13:03:45.586Z"
   },
   {
    "duration": 7,
    "start_time": "2025-03-03T13:06:30.517Z"
   },
   {
    "duration": 258,
    "start_time": "2025-03-03T13:06:55.949Z"
   },
   {
    "duration": 10,
    "start_time": "2025-03-03T13:08:38.619Z"
   },
   {
    "duration": 15,
    "start_time": "2025-03-03T13:19:10.895Z"
   },
   {
    "duration": 16,
    "start_time": "2025-03-03T13:19:43.474Z"
   },
   {
    "duration": 177,
    "start_time": "2025-03-03T13:20:24.091Z"
   },
   {
    "duration": 4,
    "start_time": "2025-03-03T13:20:46.516Z"
   },
   {
    "duration": 37,
    "start_time": "2025-03-03T13:26:06.591Z"
   },
   {
    "duration": 9,
    "start_time": "2025-03-03T13:26:36.231Z"
   },
   {
    "duration": 16,
    "start_time": "2025-03-03T13:27:20.880Z"
   },
   {
    "duration": 993,
    "start_time": "2025-03-03T13:32:21.456Z"
   },
   {
    "duration": 1911,
    "start_time": "2025-03-03T13:32:40.080Z"
   },
   {
    "duration": 1119,
    "start_time": "2025-03-03T13:33:26.179Z"
   },
   {
    "duration": 10,
    "start_time": "2025-03-03T13:38:44.150Z"
   },
   {
    "duration": 46,
    "start_time": "2025-03-03T13:40:33.108Z"
   },
   {
    "duration": 13,
    "start_time": "2025-03-03T13:43:07.460Z"
   },
   {
    "duration": 81,
    "start_time": "2025-03-03T13:43:27.145Z"
   },
   {
    "duration": 95,
    "start_time": "2025-03-03T13:44:31.102Z"
   },
   {
    "duration": 89,
    "start_time": "2025-03-03T13:44:52.854Z"
   },
   {
    "duration": 279,
    "start_time": "2025-03-03T14:45:56.551Z"
   },
   {
    "duration": 130,
    "start_time": "2025-03-03T14:47:24.533Z"
   },
   {
    "duration": 145,
    "start_time": "2025-03-03T14:49:22.347Z"
   },
   {
    "duration": 146,
    "start_time": "2025-03-03T14:49:32.897Z"
   },
   {
    "duration": 135,
    "start_time": "2025-03-03T14:49:40.761Z"
   },
   {
    "duration": 143,
    "start_time": "2025-03-03T14:50:39.606Z"
   },
   {
    "duration": 5,
    "start_time": "2025-03-03T14:52:56.322Z"
   },
   {
    "duration": 140,
    "start_time": "2025-03-03T14:53:56.533Z"
   },
   {
    "duration": 131,
    "start_time": "2025-03-03T14:54:15.062Z"
   },
   {
    "duration": 2,
    "start_time": "2025-03-03T14:56:31.150Z"
   },
   {
    "duration": 2,
    "start_time": "2025-03-03T14:56:40.116Z"
   },
   {
    "duration": 167,
    "start_time": "2025-03-03T14:57:43.963Z"
   },
   {
    "duration": 202,
    "start_time": "2025-03-03T16:17:46.095Z"
   },
   {
    "duration": 218,
    "start_time": "2025-03-03T16:19:35.873Z"
   },
   {
    "duration": 748,
    "start_time": "2025-03-03T16:27:31.353Z"
   },
   {
    "duration": 651,
    "start_time": "2025-03-03T16:28:08.131Z"
   },
   {
    "duration": 774,
    "start_time": "2025-03-03T16:29:09.396Z"
   },
   {
    "duration": 930,
    "start_time": "2025-03-03T16:29:40.266Z"
   },
   {
    "duration": 956,
    "start_time": "2025-03-03T16:29:50.710Z"
   },
   {
    "duration": 1067,
    "start_time": "2025-03-03T16:31:20.150Z"
   },
   {
    "duration": 1106,
    "start_time": "2025-03-03T16:31:31.275Z"
   },
   {
    "duration": 1086,
    "start_time": "2025-03-03T16:33:57.472Z"
   },
   {
    "duration": 48,
    "start_time": "2025-03-03T16:35:58.993Z"
   },
   {
    "duration": 420,
    "start_time": "2025-03-03T16:36:26.934Z"
   },
   {
    "duration": 176,
    "start_time": "2025-03-03T16:39:04.385Z"
   },
   {
    "duration": 47,
    "start_time": "2025-03-03T16:39:21.587Z"
   },
   {
    "duration": 11,
    "start_time": "2025-03-04T01:08:41.864Z"
   },
   {
    "duration": 158,
    "start_time": "2025-03-04T06:09:59.600Z"
   },
   {
    "duration": 2161,
    "start_time": "2025-03-04T06:10:14.279Z"
   },
   {
    "duration": 1013,
    "start_time": "2025-03-04T06:10:16.442Z"
   },
   {
    "duration": 25,
    "start_time": "2025-03-04T06:10:20.509Z"
   },
   {
    "duration": 187,
    "start_time": "2025-03-04T06:11:42.150Z"
   },
   {
    "duration": 184,
    "start_time": "2025-03-04T06:11:57.080Z"
   },
   {
    "duration": 5,
    "start_time": "2025-03-04T06:27:52.878Z"
   },
   {
    "duration": 31,
    "start_time": "2025-03-04T06:28:43.630Z"
   },
   {
    "duration": 261,
    "start_time": "2025-03-04T06:35:10.963Z"
   },
   {
    "duration": 141,
    "start_time": "2025-03-04T06:35:17.532Z"
   },
   {
    "duration": 320,
    "start_time": "2025-03-04T06:36:46.715Z"
   },
   {
    "duration": 262,
    "start_time": "2025-03-04T06:37:15.254Z"
   }
  ],
  "colab": {
   "provenance": []
  },
  "kernelspec": {
   "display_name": "Python 3",
   "language": "python",
   "name": "python3"
  },
  "language_info": {
   "codemirror_mode": {
    "name": "ipython",
    "version": 3
   },
   "file_extension": ".py",
   "mimetype": "text/x-python",
   "name": "python",
   "nbconvert_exporter": "python",
   "pygments_lexer": "ipython3",
   "version": "3.12.0"
  },
  "toc": {
   "base_numbering": 1,
   "nav_menu": {},
   "number_sections": true,
   "sideBar": true,
   "skip_h1_title": true,
   "title_cell": "Table of Contents",
   "title_sidebar": "Contents",
   "toc_cell": false,
   "toc_position": {},
   "toc_section_display": true,
   "toc_window_display": false
  }
 },
 "nbformat": 4,
 "nbformat_minor": 5
}
